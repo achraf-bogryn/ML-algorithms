{
  "nbformat": 4,
  "nbformat_minor": 0,
  "metadata": {
    "colab": {
      "provenance": []
    },
    "kernelspec": {
      "name": "python3",
      "display_name": "Python 3"
    },
    "language_info": {
      "name": "python"
    }
  },
  "cells": [
    {
      "cell_type": "markdown",
      "source": [
        "# Titanic Model"
      ],
      "metadata": {
        "id": "pXVLvYRK0XMN"
      }
    },
    {
      "cell_type": "code",
      "execution_count": 1,
      "metadata": {
        "id": "tfvxWuhW0Oed"
      },
      "outputs": [],
      "source": [
        "import pandas as pd\n",
        "import numpy as np\n",
        "import matplotlib.pyplot as plt\n",
        "import seaborn as sns"
      ]
    },
    {
      "cell_type": "code",
      "source": [
        "df_train = pd.read_csv('train.csv')\n",
        "df_test = pd.read_csv('test.csv')\n",
        "\n",
        "if 'Survived' not in df_test.columns:\n",
        "    df_test['Survived'] = 0"
      ],
      "metadata": {
        "id": "s1te-ywP0toD"
      },
      "execution_count": 10,
      "outputs": []
    },
    {
      "cell_type": "code",
      "source": [
        "def Preprocessing(df_train , df_test):\n",
        "\n",
        "  # cleaning data\n",
        "  df = pd.concat([df_train, df_test], axis=0)\n",
        "  df = df.drop(['Name', 'Ticket'], axis=1)\n",
        "  df['Age'] = df['Age'].fillna(df['Age'].mean())\n",
        "  df['Cabin']=df['Cabin'].fillna('X000')\n",
        "  df['Embarked'] = df['Embarked'].fillna(df['Embarked'].mode()[0])\n",
        "  #df['Embarked'] = df['Embarked'].fillna('X')\n",
        "  df['Fare'] = df['Fare'].fillna(df['Fare'].mean())\n",
        "\n",
        "  # feature emgineering\n",
        "  df['cabin_letter']=df['Cabin'].str.extract(r'([a-zA-z]+)',expand=False)\n",
        "  df['cabin_number']=df['Cabin'].str.extract(r'(\\d+)',expand=False)\n",
        "  df.drop('Cabin',axis=1,inplace=True)\n",
        "\n",
        "  # convert caegories into numbers\n",
        "  df = pd.get_dummies(df, columns=['cabin_letter'], prefix=['cabin_letter'])\n",
        "  df = pd.get_dummies(df, columns=['Sex'], prefix=['Sex'])\n",
        "  df = pd.get_dummies(df, columns=['Embarked'], prefix=['Embarked'])\n",
        "  df.drop('cabin_letter_X',axis=1,inplace=True)\n",
        "  df['cabin_number']=df['cabin_number'].fillna(0)\n",
        "  df['cabin_number']=pd.to_numeric(df['cabin_number'])\n",
        "\n",
        "  # split data into train and test data\n",
        "  df_train = df[:len(df_train)]\n",
        "  df_test = df[len(df_train):]\n",
        "  df_test = df_test.drop('Survived', axis=1)\n",
        "\n",
        "\n",
        "\n",
        "\n",
        "  return df_train , df_test"
      ],
      "metadata": {
        "id": "wFVW1SqM00ul"
      },
      "execution_count": 104,
      "outputs": []
    },
    {
      "cell_type": "code",
      "source": [
        "df=pd.concat([df_train,df_test],axis=0)\n",
        "df.isna().sum()[df.isna().sum()>0]"
      ],
      "metadata": {
        "colab": {
          "base_uri": "https://localhost:8080/",
          "height": 210
        },
        "id": "JFIIYUyq1w4E",
        "outputId": "8b761330-26bf-4c16-9e78-1853af36a4bf"
      },
      "execution_count": 68,
      "outputs": [
        {
          "output_type": "execute_result",
          "data": {
            "text/plain": [
              "Age          263\n",
              "Fare           1\n",
              "Cabin       1014\n",
              "Embarked       2\n",
              "dtype: int64"
            ],
            "text/html": [
              "<div>\n",
              "<style scoped>\n",
              "    .dataframe tbody tr th:only-of-type {\n",
              "        vertical-align: middle;\n",
              "    }\n",
              "\n",
              "    .dataframe tbody tr th {\n",
              "        vertical-align: top;\n",
              "    }\n",
              "\n",
              "    .dataframe thead th {\n",
              "        text-align: right;\n",
              "    }\n",
              "</style>\n",
              "<table border=\"1\" class=\"dataframe\">\n",
              "  <thead>\n",
              "    <tr style=\"text-align: right;\">\n",
              "      <th></th>\n",
              "      <th>0</th>\n",
              "    </tr>\n",
              "  </thead>\n",
              "  <tbody>\n",
              "    <tr>\n",
              "      <th>Age</th>\n",
              "      <td>263</td>\n",
              "    </tr>\n",
              "    <tr>\n",
              "      <th>Fare</th>\n",
              "      <td>1</td>\n",
              "    </tr>\n",
              "    <tr>\n",
              "      <th>Cabin</th>\n",
              "      <td>1014</td>\n",
              "    </tr>\n",
              "    <tr>\n",
              "      <th>Embarked</th>\n",
              "      <td>2</td>\n",
              "    </tr>\n",
              "  </tbody>\n",
              "</table>\n",
              "</div><br><label><b>dtype:</b> int64</label>"
            ]
          },
          "metadata": {},
          "execution_count": 68
        }
      ]
    },
    {
      "cell_type": "code",
      "source": [
        "df.info()"
      ],
      "metadata": {
        "colab": {
          "base_uri": "https://localhost:8080/"
        },
        "id": "4Yjc90VR3C4f",
        "outputId": "1d8e9ec7-9bc8-4ea9-85f8-0327e59422b8"
      },
      "execution_count": 69,
      "outputs": [
        {
          "output_type": "stream",
          "name": "stdout",
          "text": [
            "<class 'pandas.core.frame.DataFrame'>\n",
            "Index: 1309 entries, 0 to 417\n",
            "Data columns (total 12 columns):\n",
            " #   Column       Non-Null Count  Dtype  \n",
            "---  ------       --------------  -----  \n",
            " 0   PassengerId  1309 non-null   int64  \n",
            " 1   Survived     1309 non-null   int64  \n",
            " 2   Pclass       1309 non-null   int64  \n",
            " 3   Name         1309 non-null   object \n",
            " 4   Sex          1309 non-null   object \n",
            " 5   Age          1046 non-null   float64\n",
            " 6   SibSp        1309 non-null   int64  \n",
            " 7   Parch        1309 non-null   int64  \n",
            " 8   Ticket       1309 non-null   object \n",
            " 9   Fare         1308 non-null   float64\n",
            " 10  Cabin        295 non-null    object \n",
            " 11  Embarked     1307 non-null   object \n",
            "dtypes: float64(2), int64(5), object(5)\n",
            "memory usage: 132.9+ KB\n"
          ]
        }
      ]
    },
    {
      "cell_type": "code",
      "source": [
        "len(df) == len(df_train) + len(df_test)"
      ],
      "metadata": {
        "colab": {
          "base_uri": "https://localhost:8080/"
        },
        "id": "gbkmarJ-2oKc",
        "outputId": "51c280d5-b6cc-4287-ad69-0efd68ab75ae"
      },
      "execution_count": 70,
      "outputs": [
        {
          "output_type": "execute_result",
          "data": {
            "text/plain": [
              "True"
            ]
          },
          "metadata": {},
          "execution_count": 70
        }
      ]
    },
    {
      "cell_type": "code",
      "source": [
        "train_df , test_df = Preprocessing(df_train, df_test)\n",
        "train_df.head()"
      ],
      "metadata": {
        "colab": {
          "base_uri": "https://localhost:8080/",
          "height": 256
        },
        "id": "huC9BNRy2PyU",
        "outputId": "fe9e284c-c84f-474e-b932-587ca4d3c92a"
      },
      "execution_count": 94,
      "outputs": [
        {
          "output_type": "execute_result",
          "data": {
            "text/plain": [
              "   PassengerId  Survived  Pclass   Age  SibSp  Parch     Fare  cabin_number  \\\n",
              "0            1         0       3  22.0      1      0   7.2500             0   \n",
              "1            2         1       1  38.0      1      0  71.2833            85   \n",
              "2            3         1       3  26.0      0      0   7.9250             0   \n",
              "3            4         1       1  35.0      1      0  53.1000           123   \n",
              "4            5         0       3  35.0      0      0   8.0500             0   \n",
              "\n",
              "   cabin_letter_A  cabin_letter_B  ...  cabin_letter_D  cabin_letter_E  \\\n",
              "0           False           False  ...           False           False   \n",
              "1           False           False  ...           False           False   \n",
              "2           False           False  ...           False           False   \n",
              "3           False           False  ...           False           False   \n",
              "4           False           False  ...           False           False   \n",
              "\n",
              "   cabin_letter_F  cabin_letter_G  cabin_letter_T  Sex_female  Sex_male  \\\n",
              "0           False           False           False       False      True   \n",
              "1           False           False           False        True     False   \n",
              "2           False           False           False        True     False   \n",
              "3           False           False           False        True     False   \n",
              "4           False           False           False       False      True   \n",
              "\n",
              "   Embarked_C  Embarked_Q  Embarked_S  \n",
              "0       False       False        True  \n",
              "1        True       False       False  \n",
              "2       False       False        True  \n",
              "3       False       False        True  \n",
              "4       False       False        True  \n",
              "\n",
              "[5 rows x 21 columns]"
            ],
            "text/html": [
              "\n",
              "  <div id=\"df-bb23ab4b-15a4-47df-958c-55702e1927ff\" class=\"colab-df-container\">\n",
              "    <div>\n",
              "<style scoped>\n",
              "    .dataframe tbody tr th:only-of-type {\n",
              "        vertical-align: middle;\n",
              "    }\n",
              "\n",
              "    .dataframe tbody tr th {\n",
              "        vertical-align: top;\n",
              "    }\n",
              "\n",
              "    .dataframe thead th {\n",
              "        text-align: right;\n",
              "    }\n",
              "</style>\n",
              "<table border=\"1\" class=\"dataframe\">\n",
              "  <thead>\n",
              "    <tr style=\"text-align: right;\">\n",
              "      <th></th>\n",
              "      <th>PassengerId</th>\n",
              "      <th>Survived</th>\n",
              "      <th>Pclass</th>\n",
              "      <th>Age</th>\n",
              "      <th>SibSp</th>\n",
              "      <th>Parch</th>\n",
              "      <th>Fare</th>\n",
              "      <th>cabin_number</th>\n",
              "      <th>cabin_letter_A</th>\n",
              "      <th>cabin_letter_B</th>\n",
              "      <th>...</th>\n",
              "      <th>cabin_letter_D</th>\n",
              "      <th>cabin_letter_E</th>\n",
              "      <th>cabin_letter_F</th>\n",
              "      <th>cabin_letter_G</th>\n",
              "      <th>cabin_letter_T</th>\n",
              "      <th>Sex_female</th>\n",
              "      <th>Sex_male</th>\n",
              "      <th>Embarked_C</th>\n",
              "      <th>Embarked_Q</th>\n",
              "      <th>Embarked_S</th>\n",
              "    </tr>\n",
              "  </thead>\n",
              "  <tbody>\n",
              "    <tr>\n",
              "      <th>0</th>\n",
              "      <td>1</td>\n",
              "      <td>0</td>\n",
              "      <td>3</td>\n",
              "      <td>22.0</td>\n",
              "      <td>1</td>\n",
              "      <td>0</td>\n",
              "      <td>7.2500</td>\n",
              "      <td>0</td>\n",
              "      <td>False</td>\n",
              "      <td>False</td>\n",
              "      <td>...</td>\n",
              "      <td>False</td>\n",
              "      <td>False</td>\n",
              "      <td>False</td>\n",
              "      <td>False</td>\n",
              "      <td>False</td>\n",
              "      <td>False</td>\n",
              "      <td>True</td>\n",
              "      <td>False</td>\n",
              "      <td>False</td>\n",
              "      <td>True</td>\n",
              "    </tr>\n",
              "    <tr>\n",
              "      <th>1</th>\n",
              "      <td>2</td>\n",
              "      <td>1</td>\n",
              "      <td>1</td>\n",
              "      <td>38.0</td>\n",
              "      <td>1</td>\n",
              "      <td>0</td>\n",
              "      <td>71.2833</td>\n",
              "      <td>85</td>\n",
              "      <td>False</td>\n",
              "      <td>False</td>\n",
              "      <td>...</td>\n",
              "      <td>False</td>\n",
              "      <td>False</td>\n",
              "      <td>False</td>\n",
              "      <td>False</td>\n",
              "      <td>False</td>\n",
              "      <td>True</td>\n",
              "      <td>False</td>\n",
              "      <td>True</td>\n",
              "      <td>False</td>\n",
              "      <td>False</td>\n",
              "    </tr>\n",
              "    <tr>\n",
              "      <th>2</th>\n",
              "      <td>3</td>\n",
              "      <td>1</td>\n",
              "      <td>3</td>\n",
              "      <td>26.0</td>\n",
              "      <td>0</td>\n",
              "      <td>0</td>\n",
              "      <td>7.9250</td>\n",
              "      <td>0</td>\n",
              "      <td>False</td>\n",
              "      <td>False</td>\n",
              "      <td>...</td>\n",
              "      <td>False</td>\n",
              "      <td>False</td>\n",
              "      <td>False</td>\n",
              "      <td>False</td>\n",
              "      <td>False</td>\n",
              "      <td>True</td>\n",
              "      <td>False</td>\n",
              "      <td>False</td>\n",
              "      <td>False</td>\n",
              "      <td>True</td>\n",
              "    </tr>\n",
              "    <tr>\n",
              "      <th>3</th>\n",
              "      <td>4</td>\n",
              "      <td>1</td>\n",
              "      <td>1</td>\n",
              "      <td>35.0</td>\n",
              "      <td>1</td>\n",
              "      <td>0</td>\n",
              "      <td>53.1000</td>\n",
              "      <td>123</td>\n",
              "      <td>False</td>\n",
              "      <td>False</td>\n",
              "      <td>...</td>\n",
              "      <td>False</td>\n",
              "      <td>False</td>\n",
              "      <td>False</td>\n",
              "      <td>False</td>\n",
              "      <td>False</td>\n",
              "      <td>True</td>\n",
              "      <td>False</td>\n",
              "      <td>False</td>\n",
              "      <td>False</td>\n",
              "      <td>True</td>\n",
              "    </tr>\n",
              "    <tr>\n",
              "      <th>4</th>\n",
              "      <td>5</td>\n",
              "      <td>0</td>\n",
              "      <td>3</td>\n",
              "      <td>35.0</td>\n",
              "      <td>0</td>\n",
              "      <td>0</td>\n",
              "      <td>8.0500</td>\n",
              "      <td>0</td>\n",
              "      <td>False</td>\n",
              "      <td>False</td>\n",
              "      <td>...</td>\n",
              "      <td>False</td>\n",
              "      <td>False</td>\n",
              "      <td>False</td>\n",
              "      <td>False</td>\n",
              "      <td>False</td>\n",
              "      <td>False</td>\n",
              "      <td>True</td>\n",
              "      <td>False</td>\n",
              "      <td>False</td>\n",
              "      <td>True</td>\n",
              "    </tr>\n",
              "  </tbody>\n",
              "</table>\n",
              "<p>5 rows × 21 columns</p>\n",
              "</div>\n",
              "    <div class=\"colab-df-buttons\">\n",
              "\n",
              "  <div class=\"colab-df-container\">\n",
              "    <button class=\"colab-df-convert\" onclick=\"convertToInteractive('df-bb23ab4b-15a4-47df-958c-55702e1927ff')\"\n",
              "            title=\"Convert this dataframe to an interactive table.\"\n",
              "            style=\"display:none;\">\n",
              "\n",
              "  <svg xmlns=\"http://www.w3.org/2000/svg\" height=\"24px\" viewBox=\"0 -960 960 960\">\n",
              "    <path d=\"M120-120v-720h720v720H120Zm60-500h600v-160H180v160Zm220 220h160v-160H400v160Zm0 220h160v-160H400v160ZM180-400h160v-160H180v160Zm440 0h160v-160H620v160ZM180-180h160v-160H180v160Zm440 0h160v-160H620v160Z\"/>\n",
              "  </svg>\n",
              "    </button>\n",
              "\n",
              "  <style>\n",
              "    .colab-df-container {\n",
              "      display:flex;\n",
              "      gap: 12px;\n",
              "    }\n",
              "\n",
              "    .colab-df-convert {\n",
              "      background-color: #E8F0FE;\n",
              "      border: none;\n",
              "      border-radius: 50%;\n",
              "      cursor: pointer;\n",
              "      display: none;\n",
              "      fill: #1967D2;\n",
              "      height: 32px;\n",
              "      padding: 0 0 0 0;\n",
              "      width: 32px;\n",
              "    }\n",
              "\n",
              "    .colab-df-convert:hover {\n",
              "      background-color: #E2EBFA;\n",
              "      box-shadow: 0px 1px 2px rgba(60, 64, 67, 0.3), 0px 1px 3px 1px rgba(60, 64, 67, 0.15);\n",
              "      fill: #174EA6;\n",
              "    }\n",
              "\n",
              "    .colab-df-buttons div {\n",
              "      margin-bottom: 4px;\n",
              "    }\n",
              "\n",
              "    [theme=dark] .colab-df-convert {\n",
              "      background-color: #3B4455;\n",
              "      fill: #D2E3FC;\n",
              "    }\n",
              "\n",
              "    [theme=dark] .colab-df-convert:hover {\n",
              "      background-color: #434B5C;\n",
              "      box-shadow: 0px 1px 3px 1px rgba(0, 0, 0, 0.15);\n",
              "      filter: drop-shadow(0px 1px 2px rgba(0, 0, 0, 0.3));\n",
              "      fill: #FFFFFF;\n",
              "    }\n",
              "  </style>\n",
              "\n",
              "    <script>\n",
              "      const buttonEl =\n",
              "        document.querySelector('#df-bb23ab4b-15a4-47df-958c-55702e1927ff button.colab-df-convert');\n",
              "      buttonEl.style.display =\n",
              "        google.colab.kernel.accessAllowed ? 'block' : 'none';\n",
              "\n",
              "      async function convertToInteractive(key) {\n",
              "        const element = document.querySelector('#df-bb23ab4b-15a4-47df-958c-55702e1927ff');\n",
              "        const dataTable =\n",
              "          await google.colab.kernel.invokeFunction('convertToInteractive',\n",
              "                                                    [key], {});\n",
              "        if (!dataTable) return;\n",
              "\n",
              "        const docLinkHtml = 'Like what you see? Visit the ' +\n",
              "          '<a target=\"_blank\" href=https://colab.research.google.com/notebooks/data_table.ipynb>data table notebook</a>'\n",
              "          + ' to learn more about interactive tables.';\n",
              "        element.innerHTML = '';\n",
              "        dataTable['output_type'] = 'display_data';\n",
              "        await google.colab.output.renderOutput(dataTable, element);\n",
              "        const docLink = document.createElement('div');\n",
              "        docLink.innerHTML = docLinkHtml;\n",
              "        element.appendChild(docLink);\n",
              "      }\n",
              "    </script>\n",
              "  </div>\n",
              "\n",
              "\n",
              "<div id=\"df-854aaa8f-59de-40b7-8b97-a89f5c0317ca\">\n",
              "  <button class=\"colab-df-quickchart\" onclick=\"quickchart('df-854aaa8f-59de-40b7-8b97-a89f5c0317ca')\"\n",
              "            title=\"Suggest charts\"\n",
              "            style=\"display:none;\">\n",
              "\n",
              "<svg xmlns=\"http://www.w3.org/2000/svg\" height=\"24px\"viewBox=\"0 0 24 24\"\n",
              "     width=\"24px\">\n",
              "    <g>\n",
              "        <path d=\"M19 3H5c-1.1 0-2 .9-2 2v14c0 1.1.9 2 2 2h14c1.1 0 2-.9 2-2V5c0-1.1-.9-2-2-2zM9 17H7v-7h2v7zm4 0h-2V7h2v10zm4 0h-2v-4h2v4z\"/>\n",
              "    </g>\n",
              "</svg>\n",
              "  </button>\n",
              "\n",
              "<style>\n",
              "  .colab-df-quickchart {\n",
              "      --bg-color: #E8F0FE;\n",
              "      --fill-color: #1967D2;\n",
              "      --hover-bg-color: #E2EBFA;\n",
              "      --hover-fill-color: #174EA6;\n",
              "      --disabled-fill-color: #AAA;\n",
              "      --disabled-bg-color: #DDD;\n",
              "  }\n",
              "\n",
              "  [theme=dark] .colab-df-quickchart {\n",
              "      --bg-color: #3B4455;\n",
              "      --fill-color: #D2E3FC;\n",
              "      --hover-bg-color: #434B5C;\n",
              "      --hover-fill-color: #FFFFFF;\n",
              "      --disabled-bg-color: #3B4455;\n",
              "      --disabled-fill-color: #666;\n",
              "  }\n",
              "\n",
              "  .colab-df-quickchart {\n",
              "    background-color: var(--bg-color);\n",
              "    border: none;\n",
              "    border-radius: 50%;\n",
              "    cursor: pointer;\n",
              "    display: none;\n",
              "    fill: var(--fill-color);\n",
              "    height: 32px;\n",
              "    padding: 0;\n",
              "    width: 32px;\n",
              "  }\n",
              "\n",
              "  .colab-df-quickchart:hover {\n",
              "    background-color: var(--hover-bg-color);\n",
              "    box-shadow: 0 1px 2px rgba(60, 64, 67, 0.3), 0 1px 3px 1px rgba(60, 64, 67, 0.15);\n",
              "    fill: var(--button-hover-fill-color);\n",
              "  }\n",
              "\n",
              "  .colab-df-quickchart-complete:disabled,\n",
              "  .colab-df-quickchart-complete:disabled:hover {\n",
              "    background-color: var(--disabled-bg-color);\n",
              "    fill: var(--disabled-fill-color);\n",
              "    box-shadow: none;\n",
              "  }\n",
              "\n",
              "  .colab-df-spinner {\n",
              "    border: 2px solid var(--fill-color);\n",
              "    border-color: transparent;\n",
              "    border-bottom-color: var(--fill-color);\n",
              "    animation:\n",
              "      spin 1s steps(1) infinite;\n",
              "  }\n",
              "\n",
              "  @keyframes spin {\n",
              "    0% {\n",
              "      border-color: transparent;\n",
              "      border-bottom-color: var(--fill-color);\n",
              "      border-left-color: var(--fill-color);\n",
              "    }\n",
              "    20% {\n",
              "      border-color: transparent;\n",
              "      border-left-color: var(--fill-color);\n",
              "      border-top-color: var(--fill-color);\n",
              "    }\n",
              "    30% {\n",
              "      border-color: transparent;\n",
              "      border-left-color: var(--fill-color);\n",
              "      border-top-color: var(--fill-color);\n",
              "      border-right-color: var(--fill-color);\n",
              "    }\n",
              "    40% {\n",
              "      border-color: transparent;\n",
              "      border-right-color: var(--fill-color);\n",
              "      border-top-color: var(--fill-color);\n",
              "    }\n",
              "    60% {\n",
              "      border-color: transparent;\n",
              "      border-right-color: var(--fill-color);\n",
              "    }\n",
              "    80% {\n",
              "      border-color: transparent;\n",
              "      border-right-color: var(--fill-color);\n",
              "      border-bottom-color: var(--fill-color);\n",
              "    }\n",
              "    90% {\n",
              "      border-color: transparent;\n",
              "      border-bottom-color: var(--fill-color);\n",
              "    }\n",
              "  }\n",
              "</style>\n",
              "\n",
              "  <script>\n",
              "    async function quickchart(key) {\n",
              "      const quickchartButtonEl =\n",
              "        document.querySelector('#' + key + ' button');\n",
              "      quickchartButtonEl.disabled = true;  // To prevent multiple clicks.\n",
              "      quickchartButtonEl.classList.add('colab-df-spinner');\n",
              "      try {\n",
              "        const charts = await google.colab.kernel.invokeFunction(\n",
              "            'suggestCharts', [key], {});\n",
              "      } catch (error) {\n",
              "        console.error('Error during call to suggestCharts:', error);\n",
              "      }\n",
              "      quickchartButtonEl.classList.remove('colab-df-spinner');\n",
              "      quickchartButtonEl.classList.add('colab-df-quickchart-complete');\n",
              "    }\n",
              "    (() => {\n",
              "      let quickchartButtonEl =\n",
              "        document.querySelector('#df-854aaa8f-59de-40b7-8b97-a89f5c0317ca button');\n",
              "      quickchartButtonEl.style.display =\n",
              "        google.colab.kernel.accessAllowed ? 'block' : 'none';\n",
              "    })();\n",
              "  </script>\n",
              "</div>\n",
              "\n",
              "    </div>\n",
              "  </div>\n"
            ],
            "application/vnd.google.colaboratory.intrinsic+json": {
              "type": "dataframe",
              "variable_name": "train_df"
            }
          },
          "metadata": {},
          "execution_count": 94
        }
      ]
    },
    {
      "cell_type": "code",
      "source": [
        "train_df.drop('PassengerId',axis=1,inplace=True)"
      ],
      "metadata": {
        "id": "nNYxT7ZFHmH0"
      },
      "execution_count": 105,
      "outputs": []
    },
    {
      "cell_type": "code",
      "source": [
        "X=train_df.drop('Survived',axis=1)\n",
        "y=train_df['Survived']"
      ],
      "metadata": {
        "id": "Sf0ulSb_9lJp"
      },
      "execution_count": 106,
      "outputs": []
    },
    {
      "cell_type": "code",
      "source": [
        "from sklearn.model_selection import train_test_split\n",
        "X_train, X_test, y_train, y_test = train_test_split(X, y, test_size=0.2, random_state=42)\n",
        "y_train = np.reshape(y_train,(-1,1))\n",
        "y_test = np.reshape(y_test,(-1,1))\n",
        "y_train.shape , y_test.shape"
      ],
      "metadata": {
        "colab": {
          "base_uri": "https://localhost:8080/"
        },
        "id": "ivUQmNVi-pAP",
        "outputId": "4ada7c01-72ca-4288-c340-a14f1dd5860f"
      },
      "execution_count": 107,
      "outputs": [
        {
          "output_type": "execute_result",
          "data": {
            "text/plain": [
              "((712, 1), (179, 1))"
            ]
          },
          "metadata": {},
          "execution_count": 107
        }
      ]
    },
    {
      "cell_type": "markdown",
      "source": [
        "##Modeling"
      ],
      "metadata": {
        "id": "PKxYhGXO_SJC"
      }
    },
    {
      "cell_type": "code",
      "source": [
        "from sklearn.linear_model import LogisticRegression\n",
        "from sklearn.tree import DecisionTreeClassifier\n",
        "from sklearn.ensemble import RandomForestClassifier , AdaBoostClassifier , GradientBoostingClassifier\n",
        "from xgboost import XGBClassifier\n",
        "from sklearn.metrics import accuracy_score , precision_score , recall_score , f1_score , confusion_matrix , classification_report"
      ],
      "metadata": {
        "id": "uKXVEsoU_UCG"
      },
      "execution_count": 108,
      "outputs": []
    },
    {
      "cell_type": "code",
      "source": [
        "model_1 = LogisticRegression()\n",
        "model_2 = DecisionTreeClassifier()\n",
        "model_3 = RandomForestClassifier()\n",
        "model_4 = AdaBoostClassifier()\n",
        "model_5 = GradientBoostingClassifier()\n",
        "model_6 = XGBClassifier()"
      ],
      "metadata": {
        "id": "-UPBR3i1AYE8"
      },
      "execution_count": 109,
      "outputs": []
    },
    {
      "cell_type": "code",
      "source": [
        "model_1.fit(X_train , y_train)\n",
        "y_pred = model_1.predict(X_test)\n",
        "print(classification_report(y_test , y_pred))\n",
        "print(\"precision is : \", precision_score(y_test , y_pred))\n",
        "print(\"recall is : \", recall_score(y_test , y_pred))\n",
        "print(\"f1 score is : \", f1_score(y_test , y_pred))"
      ],
      "metadata": {
        "colab": {
          "base_uri": "https://localhost:8080/"
        },
        "id": "SpmKFRmAAs5R",
        "outputId": "f9c9fb5d-4902-4206-c50c-de678c063358"
      },
      "execution_count": 110,
      "outputs": [
        {
          "output_type": "stream",
          "name": "stdout",
          "text": [
            "              precision    recall  f1-score   support\n",
            "\n",
            "           0       0.83      0.87      0.85       105\n",
            "           1       0.80      0.76      0.78        74\n",
            "\n",
            "    accuracy                           0.82       179\n",
            "   macro avg       0.82      0.81      0.81       179\n",
            "weighted avg       0.82      0.82      0.82       179\n",
            "\n",
            "precision is :  0.8\n",
            "recall is :  0.7567567567567568\n",
            "f1 score is :  0.7777777777777778\n"
          ]
        },
        {
          "output_type": "stream",
          "name": "stderr",
          "text": [
            "/usr/local/lib/python3.11/dist-packages/sklearn/utils/validation.py:1408: DataConversionWarning: A column-vector y was passed when a 1d array was expected. Please change the shape of y to (n_samples, ), for example using ravel().\n",
            "  y = column_or_1d(y, warn=True)\n",
            "/usr/local/lib/python3.11/dist-packages/sklearn/linear_model/_logistic.py:465: ConvergenceWarning: lbfgs failed to converge (status=1):\n",
            "STOP: TOTAL NO. of ITERATIONS REACHED LIMIT.\n",
            "\n",
            "Increase the number of iterations (max_iter) or scale the data as shown in:\n",
            "    https://scikit-learn.org/stable/modules/preprocessing.html\n",
            "Please also refer to the documentation for alternative solver options:\n",
            "    https://scikit-learn.org/stable/modules/linear_model.html#logistic-regression\n",
            "  n_iter_i = _check_optimize_result(\n"
          ]
        }
      ]
    },
    {
      "cell_type": "code",
      "source": [
        "model_2.fit(X_train , y_train)\n",
        "y_pred = model_2.predict(X_test)\n",
        "print(classification_report(y_test , y_pred))\n",
        "print(\"precision is : \", precision_score(y_test , y_pred))\n",
        "print(\"recall is : \", recall_score(y_test , y_pred))\n",
        "print(\"f1 score is : \", f1_score(y_test , y_pred))"
      ],
      "metadata": {
        "colab": {
          "base_uri": "https://localhost:8080/"
        },
        "id": "nvZH-qgCA_CX",
        "outputId": "4cd8785e-0a08-4da9-a63f-9b1446d824a0"
      },
      "execution_count": 111,
      "outputs": [
        {
          "output_type": "stream",
          "name": "stdout",
          "text": [
            "              precision    recall  f1-score   support\n",
            "\n",
            "           0       0.82      0.80      0.81       105\n",
            "           1       0.72      0.74      0.73        74\n",
            "\n",
            "    accuracy                           0.78       179\n",
            "   macro avg       0.77      0.77      0.77       179\n",
            "weighted avg       0.78      0.78      0.78       179\n",
            "\n",
            "precision is :  0.7236842105263158\n",
            "recall is :  0.7432432432432432\n",
            "f1 score is :  0.7333333333333333\n"
          ]
        }
      ]
    },
    {
      "cell_type": "code",
      "source": [
        "model_3.fit(X_train , y_train)\n",
        "y_pred = model_3.predict(X_test)\n",
        "print(classification_report(y_test , y_pred))\n",
        "print(\"precision is : \", precision_score(y_test , y_pred))\n",
        "print(\"recall is : \", recall_score(y_test , y_pred))\n",
        "print(\"f1 score is : \", f1_score(y_test , y_pred))"
      ],
      "metadata": {
        "colab": {
          "base_uri": "https://localhost:8080/"
        },
        "id": "05eoVZyCBGvk",
        "outputId": "1d99ce43-f79c-4fa5-acde-1c80cdac1b73"
      },
      "execution_count": 112,
      "outputs": [
        {
          "output_type": "stream",
          "name": "stderr",
          "text": [
            "/usr/local/lib/python3.11/dist-packages/sklearn/base.py:1389: DataConversionWarning: A column-vector y was passed when a 1d array was expected. Please change the shape of y to (n_samples,), for example using ravel().\n",
            "  return fit_method(estimator, *args, **kwargs)\n"
          ]
        },
        {
          "output_type": "stream",
          "name": "stdout",
          "text": [
            "              precision    recall  f1-score   support\n",
            "\n",
            "           0       0.80      0.86      0.83       105\n",
            "           1       0.77      0.69      0.73        74\n",
            "\n",
            "    accuracy                           0.79       179\n",
            "   macro avg       0.78      0.77      0.78       179\n",
            "weighted avg       0.79      0.79      0.79       179\n",
            "\n",
            "precision is :  0.7727272727272727\n",
            "recall is :  0.6891891891891891\n",
            "f1 score is :  0.7285714285714285\n"
          ]
        }
      ]
    },
    {
      "cell_type": "code",
      "source": [
        "model_4.fit(X_train , y_train)\n",
        "y_pred = model_4.predict(X_test)\n",
        "print(classification_report(y_test , y_pred))\n",
        "print(\"precision is : \", precision_score(y_test , y_pred))\n",
        "print(\"recall is : \", recall_score(y_test , y_pred))\n",
        "print(\"f1 score is : \", f1_score(y_test , y_pred))"
      ],
      "metadata": {
        "colab": {
          "base_uri": "https://localhost:8080/"
        },
        "id": "_DvoX7m2BNlL",
        "outputId": "466443ce-5582-40cf-d016-b40ea25822c0"
      },
      "execution_count": 113,
      "outputs": [
        {
          "output_type": "stream",
          "name": "stdout",
          "text": [
            "              precision    recall  f1-score   support\n",
            "\n",
            "           0       0.81      0.87      0.83       105\n",
            "           1       0.79      0.70      0.74        74\n",
            "\n",
            "    accuracy                           0.80       179\n",
            "   macro avg       0.80      0.78      0.79       179\n",
            "weighted avg       0.80      0.80      0.80       179\n",
            "\n",
            "precision is :  0.7878787878787878\n",
            "recall is :  0.7027027027027027\n",
            "f1 score is :  0.7428571428571429\n"
          ]
        },
        {
          "output_type": "stream",
          "name": "stderr",
          "text": [
            "/usr/local/lib/python3.11/dist-packages/sklearn/utils/validation.py:1408: DataConversionWarning: A column-vector y was passed when a 1d array was expected. Please change the shape of y to (n_samples, ), for example using ravel().\n",
            "  y = column_or_1d(y, warn=True)\n"
          ]
        }
      ]
    },
    {
      "cell_type": "code",
      "source": [
        "model_5.fit(X_train , y_train)\n",
        "y_pred = model_5.predict(X_test)\n",
        "print(classification_report(y_test , y_pred))\n",
        "print(\"precision is : \", precision_score(y_test , y_pred))\n",
        "print(\"recall is : \", recall_score(y_test , y_pred))\n",
        "print(\"f1 score is : \", f1_score(y_test , y_pred))"
      ],
      "metadata": {
        "colab": {
          "base_uri": "https://localhost:8080/"
        },
        "id": "CHaGm4qsBRha",
        "outputId": "0e228129-0459-4389-85b3-c98d2ca15ba0"
      },
      "execution_count": 114,
      "outputs": [
        {
          "output_type": "stream",
          "name": "stderr",
          "text": [
            "/usr/local/lib/python3.11/dist-packages/sklearn/preprocessing/_label.py:110: DataConversionWarning: A column-vector y was passed when a 1d array was expected. Please change the shape of y to (n_samples, ), for example using ravel().\n",
            "  y = column_or_1d(y, warn=True)\n"
          ]
        },
        {
          "output_type": "stream",
          "name": "stdout",
          "text": [
            "              precision    recall  f1-score   support\n",
            "\n",
            "           0       0.81      0.87      0.83       105\n",
            "           1       0.79      0.70      0.74        74\n",
            "\n",
            "    accuracy                           0.80       179\n",
            "   macro avg       0.80      0.78      0.79       179\n",
            "weighted avg       0.80      0.80      0.80       179\n",
            "\n",
            "precision is :  0.7878787878787878\n",
            "recall is :  0.7027027027027027\n",
            "f1 score is :  0.7428571428571429\n"
          ]
        }
      ]
    },
    {
      "cell_type": "code",
      "source": [
        "model_6.fit(X_train , y_train)\n",
        "y_pred = model_6.predict(X_test)\n",
        "print(classification_report(y_test , y_pred))\n",
        "print(\"precision is : \", precision_score(y_test , y_pred))\n",
        "print(\"recall is : \", recall_score(y_test , y_pred))\n",
        "print(\"f1 score is : \", f1_score(y_test , y_pred))"
      ],
      "metadata": {
        "colab": {
          "base_uri": "https://localhost:8080/"
        },
        "id": "2yTSQTBxBYt8",
        "outputId": "1f82a3d0-1e11-4770-c914-a1c576c03f3a"
      },
      "execution_count": 115,
      "outputs": [
        {
          "output_type": "stream",
          "name": "stdout",
          "text": [
            "              precision    recall  f1-score   support\n",
            "\n",
            "           0       0.82      0.83      0.82       105\n",
            "           1       0.75      0.74      0.75        74\n",
            "\n",
            "    accuracy                           0.79       179\n",
            "   macro avg       0.79      0.79      0.79       179\n",
            "weighted avg       0.79      0.79      0.79       179\n",
            "\n",
            "precision is :  0.7534246575342466\n",
            "recall is :  0.7432432432432432\n",
            "f1 score is :  0.7482993197278912\n"
          ]
        }
      ]
    },
    {
      "cell_type": "markdown",
      "source": [
        "## HyperParametr"
      ],
      "metadata": {
        "id": "ND2eGukPCA1O"
      }
    },
    {
      "cell_type": "markdown",
      "source": [
        "### GradientBoosting"
      ],
      "metadata": {
        "id": "Tiv5h3JJCDSG"
      }
    },
    {
      "cell_type": "code",
      "source": [
        "from sklearn.preprocessing import StandardScaler\n",
        "\n",
        "# Create a StandardScaler object\n",
        "scaler = StandardScaler()\n",
        "\n",
        "# Fit the scaler to your training data and transform it\n",
        "X_train_scaled = scaler.fit_transform(X_train)\n",
        "\n",
        "# Transform your test data using the fitted scaler\n",
        "X_test_scaled = scaler.transform(X_test)"
      ],
      "metadata": {
        "id": "6SXmPBymCFoJ"
      },
      "execution_count": 116,
      "outputs": []
    },
    {
      "cell_type": "code",
      "source": [
        "model_4.fit(X_train_scaled , y_train)\n",
        "y_pred = model_4.predict(X_test_scaled)\n",
        "print(classification_report(y_test , y_pred))\n",
        "print(\"precision is : \", precision_score(y_test , y_pred))\n",
        "print(\"recall is : \", recall_score(y_test , y_pred))\n",
        "print(\"f1 score is : \", f1_score(y_test , y_pred))\n",
        "print(\"accuracy is : \",accuracy_score(y_test , y_pred))"
      ],
      "metadata": {
        "colab": {
          "base_uri": "https://localhost:8080/"
        },
        "id": "2uViKBA7CeCv",
        "outputId": "54a861b3-359f-4e44-f64a-50e9b5e3f875"
      },
      "execution_count": 117,
      "outputs": [
        {
          "output_type": "stream",
          "name": "stdout",
          "text": [
            "              precision    recall  f1-score   support\n",
            "\n",
            "           0       0.81      0.87      0.83       105\n",
            "           1       0.79      0.70      0.74        74\n",
            "\n",
            "    accuracy                           0.80       179\n",
            "   macro avg       0.80      0.78      0.79       179\n",
            "weighted avg       0.80      0.80      0.80       179\n",
            "\n",
            "precision is :  0.7878787878787878\n",
            "recall is :  0.7027027027027027\n",
            "f1 score is :  0.7428571428571429\n",
            "accuracy is :  0.7988826815642458\n"
          ]
        },
        {
          "output_type": "stream",
          "name": "stderr",
          "text": [
            "/usr/local/lib/python3.11/dist-packages/sklearn/utils/validation.py:1408: DataConversionWarning: A column-vector y was passed when a 1d array was expected. Please change the shape of y to (n_samples, ), for example using ravel().\n",
            "  y = column_or_1d(y, warn=True)\n"
          ]
        }
      ]
    },
    {
      "cell_type": "code",
      "source": [
        "model_5.fit(X_train_scaled , y_train)\n",
        "y_pred = model_5.predict(X_test_scaled)\n",
        "print(classification_report(y_test , y_pred))\n",
        "print(\"precision is : \", precision_score(y_test , y_pred))\n",
        "print(\"recall is : \", recall_score(y_test , y_pred))\n",
        "print(\"f1 score is : \", f1_score(y_test , y_pred))\n",
        "print(\"accuracy is : \",accuracy_score(y_test , y_pred))"
      ],
      "metadata": {
        "colab": {
          "base_uri": "https://localhost:8080/"
        },
        "id": "GMT65HjNCv7F",
        "outputId": "025a5dad-e8aa-4003-d5ef-e360ff2782bf"
      },
      "execution_count": 118,
      "outputs": [
        {
          "output_type": "stream",
          "name": "stdout",
          "text": [
            "              precision    recall  f1-score   support\n",
            "\n",
            "           0       0.81      0.87      0.83       105\n",
            "           1       0.79      0.70      0.74        74\n",
            "\n",
            "    accuracy                           0.80       179\n",
            "   macro avg       0.80      0.78      0.79       179\n",
            "weighted avg       0.80      0.80      0.80       179\n",
            "\n",
            "precision is :  0.7878787878787878\n",
            "recall is :  0.7027027027027027\n",
            "f1 score is :  0.7428571428571429\n",
            "accuracy is :  0.7988826815642458\n"
          ]
        },
        {
          "output_type": "stream",
          "name": "stderr",
          "text": [
            "/usr/local/lib/python3.11/dist-packages/sklearn/preprocessing/_label.py:110: DataConversionWarning: A column-vector y was passed when a 1d array was expected. Please change the shape of y to (n_samples, ), for example using ravel().\n",
            "  y = column_or_1d(y, warn=True)\n"
          ]
        }
      ]
    },
    {
      "cell_type": "code",
      "source": [
        "# random_forest\n",
        "model_3.fit(X_train_scaled , y_train)\n",
        "y_pred = model_3.predict(X_test_scaled)\n",
        "print(classification_report(y_test , y_pred))\n",
        "print(\"precision is : \", precision_score(y_test , y_pred))\n",
        "print(\"recall is : \", recall_score(y_test , y_pred))\n",
        "print(\"f1 score is : \", f1_score(y_test , y_pred))"
      ],
      "metadata": {
        "colab": {
          "base_uri": "https://localhost:8080/"
        },
        "id": "BfAmfLriE2G6",
        "outputId": "c56bbd73-b736-4f15-b005-5b7f968e21d7"
      },
      "execution_count": 119,
      "outputs": [
        {
          "output_type": "stream",
          "name": "stderr",
          "text": [
            "/usr/local/lib/python3.11/dist-packages/sklearn/base.py:1389: DataConversionWarning: A column-vector y was passed when a 1d array was expected. Please change the shape of y to (n_samples,), for example using ravel().\n",
            "  return fit_method(estimator, *args, **kwargs)\n"
          ]
        },
        {
          "output_type": "stream",
          "name": "stdout",
          "text": [
            "              precision    recall  f1-score   support\n",
            "\n",
            "           0       0.81      0.86      0.83       105\n",
            "           1       0.78      0.72      0.75        74\n",
            "\n",
            "    accuracy                           0.80       179\n",
            "   macro avg       0.80      0.79      0.79       179\n",
            "weighted avg       0.80      0.80      0.80       179\n",
            "\n",
            "precision is :  0.7794117647058824\n",
            "recall is :  0.7162162162162162\n",
            "f1 score is :  0.7464788732394366\n"
          ]
        }
      ]
    },
    {
      "cell_type": "code",
      "source": [
        "from sklearn.model_selection import GridSearchCV\n",
        "from sklearn.model_selection import RandomizedSearchCV\n",
        "param_dist = {\n",
        "    'n_estimators': [100, 200, 300, 400, 500],\n",
        "    'max_depth': [None, 10, 20, 30, 40, 50],\n",
        "    'min_samples_split': [2, 5, 10],\n",
        "    'min_samples_leaf': [1, 2, 4],\n",
        "    'max_features': ['auto', 'sqrt', 'log2'],\n",
        "    'bootstrap': [True, False]\n",
        "}\n",
        "\n",
        "random_search = RandomizedSearchCV(\n",
        "    estimator=model_3,\n",
        "    param_distributions=param_dist,\n",
        "    n_iter=50,                  # Number of random combinations to try\n",
        "    cv=5,                       # 5-fold cross-validation\n",
        "    scoring='precision',        # Use precision as the metric\n",
        "    verbose=2,\n",
        "    n_jobs=-1,\n",
        "    random_state=42\n",
        ")\n",
        "\n",
        "# Fit the search to your data\n",
        "random_search.fit(X, y)\n",
        "\n",
        "# Best model\n",
        "best_rf = random_search.best_estimator_\n",
        "\n",
        "# Predict\n",
        "y_pred = best_rf.predict(X_test_scaled)\n",
        "\n",
        "# Evaluate\n",
        "print(\"Best Hyperparameters:\\n\", random_search.best_params_)\n",
        "print(\"\\nClassification Report:\")\n",
        "print(classification_report(y_test, y_pred))\n",
        "print(\"f1 is: \",f1_score(y_test, y_pred))\n",
        "print(\"precision is: \",precision_score(y_test, y_pred))\n",
        "print(\"recall is: \",recall_score(y_test, y_pred))"
      ],
      "metadata": {
        "colab": {
          "base_uri": "https://localhost:8080/"
        },
        "id": "jnYLQtXWGIp8",
        "outputId": "1eaf10d5-5b83-4e86-ffca-05142d993b15"
      },
      "execution_count": 140,
      "outputs": [
        {
          "output_type": "stream",
          "name": "stdout",
          "text": [
            "Fitting 5 folds for each of 50 candidates, totalling 250 fits\n"
          ]
        },
        {
          "output_type": "stream",
          "name": "stderr",
          "text": [
            "/usr/local/lib/python3.11/dist-packages/sklearn/model_selection/_validation.py:528: FitFailedWarning: \n",
            "115 fits failed out of a total of 250.\n",
            "The score on these train-test partitions for these parameters will be set to nan.\n",
            "If these failures are not expected, you can try to debug them by setting error_score='raise'.\n",
            "\n",
            "Below are more details about the failures:\n",
            "--------------------------------------------------------------------------------\n",
            "115 fits failed with the following error:\n",
            "Traceback (most recent call last):\n",
            "  File \"/usr/local/lib/python3.11/dist-packages/sklearn/model_selection/_validation.py\", line 866, in _fit_and_score\n",
            "    estimator.fit(X_train, y_train, **fit_params)\n",
            "  File \"/usr/local/lib/python3.11/dist-packages/sklearn/base.py\", line 1382, in wrapper\n",
            "    estimator._validate_params()\n",
            "  File \"/usr/local/lib/python3.11/dist-packages/sklearn/base.py\", line 436, in _validate_params\n",
            "    validate_parameter_constraints(\n",
            "  File \"/usr/local/lib/python3.11/dist-packages/sklearn/utils/_param_validation.py\", line 98, in validate_parameter_constraints\n",
            "    raise InvalidParameterError(\n",
            "sklearn.utils._param_validation.InvalidParameterError: The 'max_features' parameter of RandomForestClassifier must be an int in the range [1, inf), a float in the range (0.0, 1.0], a str among {'sqrt', 'log2'} or None. Got 'auto' instead.\n",
            "\n",
            "  warnings.warn(some_fits_failed_message, FitFailedWarning)\n",
            "/usr/local/lib/python3.11/dist-packages/sklearn/model_selection/_search.py:1108: UserWarning: One or more of the test scores are non-finite: [       nan 0.81405903 0.81227024        nan 0.80992268 0.81118227\n",
            " 0.80831401        nan 0.80888837        nan 0.82259514        nan\n",
            "        nan        nan        nan 0.81946008        nan 0.80543846\n",
            "        nan        nan        nan 0.80615663 0.80370343        nan\n",
            "        nan 0.81321429 0.81308046 0.81989065 0.79864972 0.81421523\n",
            " 0.81878211        nan 0.80803724        nan        nan 0.81831164\n",
            " 0.80907416 0.81086054 0.81244009        nan 0.76489192        nan\n",
            "        nan 0.81715381 0.81011945 0.81308801 0.81551641        nan\n",
            "        nan        nan]\n",
            "  warnings.warn(\n",
            "/usr/local/lib/python3.11/dist-packages/sklearn/utils/validation.py:2739: UserWarning: X does not have valid feature names, but RandomForestClassifier was fitted with feature names\n",
            "  warnings.warn(\n"
          ]
        },
        {
          "output_type": "stream",
          "name": "stdout",
          "text": [
            "Best Hyperparameters:\n",
            " {'n_estimators': 100, 'min_samples_split': 5, 'min_samples_leaf': 4, 'max_features': 'sqrt', 'max_depth': 40, 'bootstrap': True}\n",
            "\n",
            "Classification Report:\n",
            "              precision    recall  f1-score   support\n",
            "\n",
            "           0       0.84      0.75      0.79       105\n",
            "           1       0.69      0.80      0.74        74\n",
            "\n",
            "    accuracy                           0.77       179\n",
            "   macro avg       0.77      0.77      0.77       179\n",
            "weighted avg       0.78      0.77      0.77       179\n",
            "\n",
            "f1 is:  0.7421383647798742\n",
            "precision is:  0.6941176470588235\n",
            "recall is:  0.7972972972972973\n"
          ]
        }
      ]
    },
    {
      "cell_type": "code",
      "source": [
        "# submission\n",
        "pred = random_search.predict(test_df)\n",
        "\n",
        "submission_cv = pd.DataFrame({\n",
        "    'PassengerId': df_test['PassengerId'],\n",
        "    'Survived': pred\n",
        "})\n",
        "\n",
        "submission_cv.to_csv('submission_cv.csv', index=False)"
      ],
      "metadata": {
        "colab": {
          "base_uri": "https://localhost:8080/"
        },
        "id": "9xHn1cOIHFuu",
        "outputId": "3331f660-3ecb-4391-bd48-c2930fcfae91"
      },
      "execution_count": 103,
      "outputs": [
        {
          "output_type": "stream",
          "name": "stderr",
          "text": [
            "/usr/local/lib/python3.11/dist-packages/sklearn/utils/validation.py:2732: UserWarning: X has feature names, but RandomForestClassifier was fitted without feature names\n",
            "  warnings.warn(\n"
          ]
        }
      ]
    },
    {
      "cell_type": "markdown",
      "source": [
        "### Gradient_Boosting"
      ],
      "metadata": {
        "id": "1CgOAwqKIrAx"
      }
    },
    {
      "cell_type": "code",
      "source": [
        "param_grid_gb = {\n",
        "    'n_estimators': [50, 100, 150, 200],\n",
        "    'learning_rate': [0.01, 0.1, 0.5],\n",
        "    'max_depth': [3, 4, 5],\n",
        "}\n",
        "\n",
        "# Create GridSearchCV object\n",
        "grid_search_gb = GridSearchCV(estimator=model_5, param_grid=param_grid_gb, cv=5, scoring='f1')\n",
        "\n",
        "# Fit the GridSearchCV object to the data\n",
        "grid_search_gb.fit(X, y)\n",
        "\n",
        "# Get the best parameters\n",
        "best_params_gb = grid_search_gb.best_params_\n",
        "\n",
        "# Create a new GradientBoostingClassifier model with the best parameters\n",
        "best_gb_model = GradientBoostingClassifier(**best_params_gb)\n",
        "\n",
        "# Train the model using the best parameters\n",
        "best_gb_model.fit(X_train_scaled, y_train)\n",
        "\n",
        "# Make predictions\n",
        "y_pred_gb = best_gb_model.predict(X_test_scaled)"
      ],
      "metadata": {
        "colab": {
          "base_uri": "https://localhost:8080/"
        },
        "id": "ctHgggpVItxx",
        "outputId": "aabfe3b3-2144-49c7-f97e-2cb49f8bb70e"
      },
      "execution_count": 135,
      "outputs": [
        {
          "output_type": "stream",
          "name": "stderr",
          "text": [
            "/usr/local/lib/python3.11/dist-packages/sklearn/preprocessing/_label.py:110: DataConversionWarning: A column-vector y was passed when a 1d array was expected. Please change the shape of y to (n_samples, ), for example using ravel().\n",
            "  y = column_or_1d(y, warn=True)\n"
          ]
        }
      ]
    },
    {
      "cell_type": "code",
      "source": [
        "precision_score(y_test, y_pred_gb)"
      ],
      "metadata": {
        "colab": {
          "base_uri": "https://localhost:8080/"
        },
        "id": "gFVr2TbZIzF9",
        "outputId": "6a98b505-1c2d-4452-a2ee-c9648adafda6"
      },
      "execution_count": 136,
      "outputs": [
        {
          "output_type": "execute_result",
          "data": {
            "text/plain": [
              "0.8181818181818182"
            ]
          },
          "metadata": {},
          "execution_count": 136
        }
      ]
    },
    {
      "cell_type": "code",
      "source": [
        "f1_score(y_test, y_pred_gb)"
      ],
      "metadata": {
        "colab": {
          "base_uri": "https://localhost:8080/"
        },
        "id": "Zta5A8rxJRwq",
        "outputId": "9c5b66f1-e170-480e-d47b-444fa73a8c57"
      },
      "execution_count": 137,
      "outputs": [
        {
          "output_type": "execute_result",
          "data": {
            "text/plain": [
              "0.7714285714285715"
            ]
          },
          "metadata": {},
          "execution_count": 137
        }
      ]
    },
    {
      "cell_type": "code",
      "source": [
        "accuracy_score(y_test, y_pred_gb)"
      ],
      "metadata": {
        "colab": {
          "base_uri": "https://localhost:8080/"
        },
        "id": "iXx8K2J_J3Kq",
        "outputId": "aaf47be7-cdb7-411f-f2ba-0243a0a4421c"
      },
      "execution_count": 138,
      "outputs": [
        {
          "output_type": "execute_result",
          "data": {
            "text/plain": [
              "0.8212290502793296"
            ]
          },
          "metadata": {},
          "execution_count": 138
        }
      ]
    },
    {
      "cell_type": "markdown",
      "source": [
        "### LogisticRegression"
      ],
      "metadata": {
        "id": "LUV7cNZIO8mR"
      }
    },
    {
      "cell_type": "code",
      "source": [
        "from sklearn.linear_model import LogisticRegression\n",
        "from sklearn.model_selection import RandomizedSearchCV\n",
        "from sklearn.metrics import classification_report, f1_score\n",
        "\n",
        "# Define the model\n",
        "logreg = LogisticRegression(random_state=42)\n",
        "\n",
        "# Define the hyperparameter space\n",
        "param_dist = {\n",
        "    'C': [0.001, 0.01, 0.1, 1, 10, 100],\n",
        "    'penalty': ['l1', 'l2'],\n",
        "    'solver': ['liblinear', 'saga'],\n",
        "    'class_weight': [None, 'balanced'],\n",
        "    'max_iter': [100, 200, 500]\n",
        "}\n",
        "\n",
        "# Setup the search\n",
        "random_search = RandomizedSearchCV(\n",
        "    estimator=model_1,\n",
        "    param_distributions=param_dist,\n",
        "    n_iter=30,\n",
        "    scoring='f1',\n",
        "    cv=5,\n",
        "    verbose=1,\n",
        "    n_jobs=-1,\n",
        "    random_state=42\n",
        ")\n",
        "\n",
        "# Fit the model\n",
        "random_search.fit(X_train_scaled, y_train)\n",
        "\n",
        "# Get best model\n",
        "best_logreg = random_search.best_estimator_\n",
        "\n",
        "# Predict\n",
        "y_pred = best_logreg.predict(X_test_scaled)\n",
        "\n",
        "# Evaluate\n",
        "print(\"Best Hyperparameters:\\n\", random_search.best_params_)\n",
        "print(\"\\nClassification Report:\\n\", classification_report(y_test, y_pred))\n",
        "print(\"F1 Score:\", f1_score(y_test, y_pred))\n"
      ],
      "metadata": {
        "colab": {
          "base_uri": "https://localhost:8080/"
        },
        "id": "XFHc0OyRO72X",
        "outputId": "cf4b2f00-7b93-43a2-87c5-afb0bad3ac2d"
      },
      "execution_count": 144,
      "outputs": [
        {
          "output_type": "stream",
          "name": "stdout",
          "text": [
            "Fitting 5 folds for each of 30 candidates, totalling 150 fits\n",
            "Best Hyperparameters:\n",
            " {'solver': 'liblinear', 'penalty': 'l2', 'max_iter': 200, 'class_weight': 'balanced', 'C': 0.1}\n",
            "\n",
            "Classification Report:\n",
            "               precision    recall  f1-score   support\n",
            "\n",
            "           0       0.86      0.79      0.82       105\n",
            "           1       0.73      0.81      0.77        74\n",
            "\n",
            "    accuracy                           0.80       179\n",
            "   macro avg       0.79      0.80      0.80       179\n",
            "weighted avg       0.80      0.80      0.80       179\n",
            "\n",
            "F1 Score: 0.7692307692307693\n"
          ]
        },
        {
          "output_type": "stream",
          "name": "stderr",
          "text": [
            "/usr/local/lib/python3.11/dist-packages/sklearn/utils/validation.py:1408: DataConversionWarning: A column-vector y was passed when a 1d array was expected. Please change the shape of y to (n_samples, ), for example using ravel().\n",
            "  y = column_or_1d(y, warn=True)\n"
          ]
        }
      ]
    },
    {
      "cell_type": "code",
      "source": [
        "param_grid = {\n",
        "    'C': [0.01, 0.1, 1, 10],\n",
        "    'penalty': ['l1', 'l2'],\n",
        "    'solver': ['liblinear'],  # liblinear supports both l1 and l2\n",
        "    'class_weight': [None, 'balanced'],\n",
        "    'max_iter': [100, 200, 500]\n",
        "}\n",
        "\n",
        "grid_search = GridSearchCV(\n",
        "    estimator=model_1,\n",
        "    param_grid=param_grid,\n",
        "    scoring='f1',\n",
        "    cv=5,\n",
        "    verbose=2,\n",
        "    n_jobs=-1\n",
        ")\n",
        "\n",
        "grid_search.fit(X_train_scaled, y_train)\n",
        "best_model = grid_search.best_estimator_\n",
        "y_pred = best_model.predict(X_test_scaled)\n",
        "\n",
        "# 7. Evaluation\n",
        "print(\"\\n✅ Best Hyperparameters:\", grid_search.best_params_)\n",
        "print(\"\\n📊 Classification Report:\\n\", classification_report(y_test, y_pred))\n",
        "print(\"🎯 F1 Score:\", f1_score(y_test, y_pred))"
      ],
      "metadata": {
        "colab": {
          "base_uri": "https://localhost:8080/"
        },
        "id": "CUU_DWWxP8I1",
        "outputId": "011e6165-389d-4924-d899-66a819759724"
      },
      "execution_count": 145,
      "outputs": [
        {
          "output_type": "stream",
          "name": "stdout",
          "text": [
            "Fitting 5 folds for each of 48 candidates, totalling 240 fits\n",
            "\n",
            "✅ Best Hyperparameters: {'C': 0.1, 'class_weight': 'balanced', 'max_iter': 100, 'penalty': 'l2', 'solver': 'liblinear'}\n",
            "\n",
            "📊 Classification Report:\n",
            "               precision    recall  f1-score   support\n",
            "\n",
            "           0       0.86      0.79      0.82       105\n",
            "           1       0.73      0.81      0.77        74\n",
            "\n",
            "    accuracy                           0.80       179\n",
            "   macro avg       0.79      0.80      0.80       179\n",
            "weighted avg       0.80      0.80      0.80       179\n",
            "\n",
            "🎯 F1 Score: 0.7692307692307693\n"
          ]
        },
        {
          "output_type": "stream",
          "name": "stderr",
          "text": [
            "/usr/local/lib/python3.11/dist-packages/sklearn/utils/validation.py:1408: DataConversionWarning: A column-vector y was passed when a 1d array was expected. Please change the shape of y to (n_samples, ), for example using ravel().\n",
            "  y = column_or_1d(y, warn=True)\n"
          ]
        }
      ]
    }
  ]
}