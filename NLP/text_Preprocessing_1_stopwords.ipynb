{
  "nbformat": 4,
  "nbformat_minor": 0,
  "metadata": {
    "colab": {
      "provenance": []
    },
    "kernelspec": {
      "name": "python3",
      "display_name": "Python 3"
    },
    "language_info": {
      "name": "python"
    }
  },
  "cells": [
    {
      "cell_type": "markdown",
      "source": [
        "# StopWords"
      ],
      "metadata": {
        "id": "wS5U0QDfdSwo"
      }
    },
    {
      "cell_type": "code",
      "execution_count": 1,
      "metadata": {
        "id": "HAm7PTMQSdVd"
      },
      "outputs": [],
      "source": [
        "paragraph = \"\"\"\n",
        "Dr. APJ Abdul Kalam’s life story reads like a masterclass in turning adversity into opportunity. Born in 1931 in the pilgrim town of Rameswaram, his early life was marked by financial hardship, but also by the values of harmony and dedication that would shape his future.\n",
        "\n",
        "As a young boy, Kalam would wake up early to study mathematics, and then distribute newspapers to help his family. His father, a boat owner and imam, and his mother, a housewife, instilled in him the values of honesty, hard work, and spiritual wealth over material success.\n",
        "\n",
        "His scientific career began at the Aeronautical Development Establishment of DRDO. However, it was at ISRO that he truly found his calling. Under the mentorship of Vikram Sarabhai, Kalam led the development of India’s first satellite launch vehicle, SLV-III, which successfully deployed the Rohini satellite in 1980.\n",
        "\n",
        "But perhaps his most significant contribution came through the Integrated Guided Missile Development Programme. Under his leadership, India developed strategic missiles like Agni and Prithvi, establishing itself as a military power. Yet, Kalam’s vision went beyond defense – he consistently advocated for India’s self-reliance in critical technologies.\n",
        "\"\"\""
      ]
    },
    {
      "cell_type": "code",
      "source": [
        "print(paragraph)"
      ],
      "metadata": {
        "colab": {
          "base_uri": "https://localhost:8080/"
        },
        "id": "Q_yjcwkxc7kO",
        "outputId": "5a546270-7824-42fe-b409-9cadd5f70034"
      },
      "execution_count": 2,
      "outputs": [
        {
          "output_type": "stream",
          "name": "stdout",
          "text": [
            "\n",
            "Dr. APJ Abdul Kalam’s life story reads like a masterclass in turning adversity into opportunity. Born in 1931 in the pilgrim town of Rameswaram, his early life was marked by financial hardship, but also by the values of harmony and dedication that would shape his future.\n",
            "\n",
            "As a young boy, Kalam would wake up early to study mathematics, and then distribute newspapers to help his family. His father, a boat owner and imam, and his mother, a housewife, instilled in him the values of honesty, hard work, and spiritual wealth over material success.\n",
            "\n",
            "His scientific career began at the Aeronautical Development Establishment of DRDO. However, it was at ISRO that he truly found his calling. Under the mentorship of Vikram Sarabhai, Kalam led the development of India’s first satellite launch vehicle, SLV-III, which successfully deployed the Rohini satellite in 1980.\n",
            "\n",
            "But perhaps his most significant contribution came through the Integrated Guided Missile Development Programme. Under his leadership, India developed strategic missiles like Agni and Prithvi, establishing itself as a military power. Yet, Kalam’s vision went beyond defense – he consistently advocated for India’s self-reliance in critical technologies.\n",
            "\n"
          ]
        }
      ]
    },
    {
      "cell_type": "code",
      "source": [
        "from nltk.stem import PorterStemmer\n",
        "from nltk.corpus import stopwords\n",
        "from nltk.tokenize import word_tokenize"
      ],
      "metadata": {
        "id": "KitiLsrudWhM"
      },
      "execution_count": 3,
      "outputs": []
    },
    {
      "cell_type": "code",
      "source": [
        "import nltk\n",
        "nltk.download('stopwords')"
      ],
      "metadata": {
        "colab": {
          "base_uri": "https://localhost:8080/"
        },
        "id": "s7_Hd7tXdhMZ",
        "outputId": "22351ae4-9831-436c-c9c3-c4cb74511198"
      },
      "execution_count": 4,
      "outputs": [
        {
          "output_type": "stream",
          "name": "stderr",
          "text": [
            "[nltk_data] Downloading package stopwords to /root/nltk_data...\n",
            "[nltk_data]   Unzipping corpora/stopwords.zip.\n"
          ]
        },
        {
          "output_type": "execute_result",
          "data": {
            "text/plain": [
              "True"
            ]
          },
          "metadata": {},
          "execution_count": 4
        }
      ]
    },
    {
      "cell_type": "code",
      "source": [
        "stopwords.words('english')[:10]"
      ],
      "metadata": {
        "colab": {
          "base_uri": "https://localhost:8080/"
        },
        "id": "qPLZGseKdkQi",
        "outputId": "b4733a12-85d2-48b9-dbc6-55fe7f4594d3"
      },
      "execution_count": 5,
      "outputs": [
        {
          "output_type": "execute_result",
          "data": {
            "text/plain": [
              "['a', 'about', 'above', 'after', 'again', 'against', 'ain', 'all', 'am', 'an']"
            ]
          },
          "metadata": {},
          "execution_count": 5
        }
      ]
    },
    {
      "cell_type": "code",
      "source": [
        "stopwords.words('french')[:10]"
      ],
      "metadata": {
        "colab": {
          "base_uri": "https://localhost:8080/"
        },
        "id": "yRBwmQkPeD4v",
        "outputId": "0e609f4c-218d-442f-9abc-71099694475d"
      },
      "execution_count": 6,
      "outputs": [
        {
          "output_type": "execute_result",
          "data": {
            "text/plain": [
              "['au', 'aux', 'avec', 'ce', 'ces', 'dans', 'de', 'des', 'du', 'elle']"
            ]
          },
          "metadata": {},
          "execution_count": 6
        }
      ]
    },
    {
      "cell_type": "code",
      "source": [
        "stopwords.words('arabic')[:10]"
      ],
      "metadata": {
        "colab": {
          "base_uri": "https://localhost:8080/"
        },
        "id": "r6ZmV5VheZnv",
        "outputId": "f9b7dc08-8fcd-45c1-9394-b2e14c1f94d7"
      },
      "execution_count": 7,
      "outputs": [
        {
          "output_type": "execute_result",
          "data": {
            "text/plain": [
              "['إذ', 'إذا', 'إذما', 'إذن', 'أف', 'أقل', 'أكثر', 'ألا', 'إلا', 'التي']"
            ]
          },
          "metadata": {},
          "execution_count": 7
        }
      ]
    },
    {
      "cell_type": "code",
      "source": [
        "stemmer = PorterStemmer()"
      ],
      "metadata": {
        "id": "Gt8VS65Ne2E8"
      },
      "execution_count": 8,
      "outputs": []
    },
    {
      "cell_type": "code",
      "source": [
        "import nltk\n",
        "nltk.download('punkt_tab')"
      ],
      "metadata": {
        "colab": {
          "base_uri": "https://localhost:8080/"
        },
        "id": "YQX5pNgcfbx3",
        "outputId": "fa4bf528-c629-40cf-98de-6bcd31221cd6"
      },
      "execution_count": 9,
      "outputs": [
        {
          "output_type": "stream",
          "name": "stderr",
          "text": [
            "[nltk_data] Downloading package punkt_tab to /root/nltk_data...\n",
            "[nltk_data]   Unzipping tokenizers/punkt_tab.zip.\n"
          ]
        },
        {
          "output_type": "execute_result",
          "data": {
            "text/plain": [
              "True"
            ]
          },
          "metadata": {},
          "execution_count": 9
        }
      ]
    },
    {
      "cell_type": "code",
      "source": [
        "documents = nltk.sent_tokenize(paragraph)"
      ],
      "metadata": {
        "id": "1aqhjFzLfWHm"
      },
      "execution_count": 10,
      "outputs": []
    },
    {
      "cell_type": "code",
      "source": [
        "type(documents)"
      ],
      "metadata": {
        "colab": {
          "base_uri": "https://localhost:8080/"
        },
        "id": "AXfOqHx6KOqN",
        "outputId": "2cbf12c4-dbe6-4377-a998-b93b50d8e028"
      },
      "execution_count": 12,
      "outputs": [
        {
          "output_type": "execute_result",
          "data": {
            "text/plain": [
              "list"
            ]
          },
          "metadata": {},
          "execution_count": 12
        }
      ]
    },
    {
      "cell_type": "code",
      "source": [
        "for sentence in documents:\n",
        "    print(f\"{sentence}\\n\")"
      ],
      "metadata": {
        "colab": {
          "base_uri": "https://localhost:8080/"
        },
        "id": "noeEnypEfuXx",
        "outputId": "384dfe47-0ba2-40fa-9eda-a75804d05e20"
      },
      "execution_count": 11,
      "outputs": [
        {
          "output_type": "stream",
          "name": "stdout",
          "text": [
            "\n",
            "Dr. APJ Abdul Kalam’s life story reads like a masterclass in turning adversity into opportunity.\n",
            "\n",
            "Born in 1931 in the pilgrim town of Rameswaram, his early life was marked by financial hardship, but also by the values of harmony and dedication that would shape his future.\n",
            "\n",
            "As a young boy, Kalam would wake up early to study mathematics, and then distribute newspapers to help his family.\n",
            "\n",
            "His father, a boat owner and imam, and his mother, a housewife, instilled in him the values of honesty, hard work, and spiritual wealth over material success.\n",
            "\n",
            "His scientific career began at the Aeronautical Development Establishment of DRDO.\n",
            "\n",
            "However, it was at ISRO that he truly found his calling.\n",
            "\n",
            "Under the mentorship of Vikram Sarabhai, Kalam led the development of India’s first satellite launch vehicle, SLV-III, which successfully deployed the Rohini satellite in 1980.\n",
            "\n",
            "But perhaps his most significant contribution came through the Integrated Guided Missile Development Programme.\n",
            "\n",
            "Under his leadership, India developed strategic missiles like Agni and Prithvi, establishing itself as a military power.\n",
            "\n",
            "Yet, Kalam’s vision went beyond defense – he consistently advocated for India’s self-reliance in critical technologies.\n",
            "\n"
          ]
        }
      ]
    },
    {
      "cell_type": "markdown",
      "source": [
        "## Apply stopwords and filter and then apply PorterStemmer"
      ],
      "metadata": {
        "id": "3YszCQdyKWmo"
      }
    },
    {
      "cell_type": "code",
      "source": [
        "for i in range(len(documents)):\n",
        "  Words = nltk.word_tokenize(documents[i])\n",
        "  newWords = [stemmer.stem(word) for word in Words if word not in set(stopwords.words('english'))]\n",
        "  documents[i] = ' '.join(newWords) #Converting all the list of  words into sentences\n",
        "\n",
        "len(newWords) , len(Words)"
      ],
      "metadata": {
        "colab": {
          "base_uri": "https://localhost:8080/"
        },
        "id": "b93Ah3QnKjEX",
        "outputId": "f3cd6c93-caa1-40bd-d4a9-4198d871cbea"
      },
      "execution_count": 36,
      "outputs": [
        {
          "output_type": "execute_result",
          "data": {
            "text/plain": [
              "(17, 17)"
            ]
          },
          "metadata": {},
          "execution_count": 36
        }
      ]
    },
    {
      "cell_type": "code",
      "source": [
        "for sentence in documents:\n",
        "    print(f\"{sentence}\\n\")"
      ],
      "metadata": {
        "colab": {
          "base_uri": "https://localhost:8080/"
        },
        "id": "boy_IRI5MOK2",
        "outputId": "f115281a-1852-4bb6-9fad-3816a821317c"
      },
      "execution_count": 37,
      "outputs": [
        {
          "output_type": "stream",
          "name": "stdout",
          "text": [
            "dr. apj abdul kalam ’ life stori read like masterclass turn adver opportun .\n",
            "\n",
            "bear 1931 pilgrim town rameswaram , ear life mark financ hardship , also valu harmoni dedic would shape futur .\n",
            "\n",
            "young boy , kalam would wake ear studi mathemat , distribut newspap help famili .\n",
            "\n",
            "hi father , boat owner imam , mother , housewif , instil valu honesti , hard work , spiritu wealth materi success .\n",
            "\n",
            "hi scientif career begin aeronaut develop establish drdo .\n",
            "\n",
            "howev , isro truli find call .\n",
            "\n",
            "mentorship vikram sarabhai , kalam lead develop india ’ first satellit launch vehicl , slv-iii , success deploy rohini satellit 1980 .\n",
            "\n",
            "perhap signif contribut come integr guid missil develop programm .\n",
            "\n",
            "leadership , india develop strateg missil like agni prithvi , establish militari power .\n",
            "\n",
            "yet , kalam ’ vision go beyond defen – consist advoc india ’ self-r critic technolog .\n",
            "\n"
          ]
        }
      ]
    },
    {
      "cell_type": "markdown",
      "source": [
        "## Apply stopwords and filter and then apply snowballstemmer"
      ],
      "metadata": {
        "id": "U7aDquEWOHQk"
      }
    },
    {
      "cell_type": "code",
      "source": [
        "from nltk.stem import SnowballStemmer\n",
        "snowballstemmer = SnowballStemmer('english')"
      ],
      "metadata": {
        "id": "3zl6uyb9Nwsc"
      },
      "execution_count": 22,
      "outputs": []
    },
    {
      "cell_type": "code",
      "source": [
        "for i in range(len(documents)):\n",
        "  Words = nltk.word_tokenize(documents[i])\n",
        "  newWords = [snowballstemmer.stem(word) for word in Words if word not in set(stopwords.words('english'))]\n",
        "  documents[i] = ' '.join(newWords) #Converting all the list of  words into sentences\n",
        "\n",
        "len(newWords) , len(Words)"
      ],
      "metadata": {
        "colab": {
          "base_uri": "https://localhost:8080/"
        },
        "id": "xvi2QmifOOt3",
        "outputId": "a538fe49-db0f-45ec-9d75-b87205ea45fb"
      },
      "execution_count": 38,
      "outputs": [
        {
          "output_type": "execute_result",
          "data": {
            "text/plain": [
              "(17, 17)"
            ]
          },
          "metadata": {},
          "execution_count": 38
        }
      ]
    },
    {
      "cell_type": "code",
      "source": [
        "documents"
      ],
      "metadata": {
        "colab": {
          "base_uri": "https://localhost:8080/"
        },
        "id": "jOTtC8mbOTLq",
        "outputId": "c05649c7-9eeb-4f94-a465-2c54a93bf237"
      },
      "execution_count": 39,
      "outputs": [
        {
          "output_type": "execute_result",
          "data": {
            "text/plain": [
              "['dr. apj abdul kalam ’ life stori read like masterclass turn adver opportun .',\n",
              " 'bear 1931 pilgrim town rameswaram , ear life mark financ hardship , also valu harmoni dedic would shape futur .',\n",
              " 'young boy , kalam would wake ear studi mathemat , distribut newspap help famili .',\n",
              " 'hi father , boat owner imam , mother , housewif , instil valu honesti , hard work , spiritu wealth materi success .',\n",
              " 'hi scientif career begin aeronaut develop establish drdo .',\n",
              " 'howev , isro truli find call .',\n",
              " 'mentorship vikram sarabhai , kalam lead develop india ’ first satellit launch vehicl , slv-iii , success deploy rohini satellit 1980 .',\n",
              " 'perhap signif contribut come integr guid missil develop programm .',\n",
              " 'leadership , india develop strateg missil like agni prithvi , establish militari power .',\n",
              " 'yet , kalam ’ vision go beyond defen – consist advoc india ’ self-r critic technolog .']"
            ]
          },
          "metadata": {},
          "execution_count": 39
        }
      ]
    },
    {
      "cell_type": "markdown",
      "source": [
        "## Apply stopwords and filter and then apply Lemmatization"
      ],
      "metadata": {
        "id": "niU6tthEZZYH"
      }
    },
    {
      "cell_type": "code",
      "source": [
        "from nltk.stem import WordNetLemmatizer"
      ],
      "metadata": {
        "id": "hxGLlkgFZpf-"
      },
      "execution_count": 25,
      "outputs": []
    },
    {
      "cell_type": "code",
      "source": [
        "import nltk\n",
        "\n",
        "nltk.download('wordnet')"
      ],
      "metadata": {
        "colab": {
          "base_uri": "https://localhost:8080/"
        },
        "id": "pG8UC3RAcGVD",
        "outputId": "23c8ce77-7e2b-4b6b-c82a-39dd2954b82e"
      },
      "execution_count": 29,
      "outputs": [
        {
          "output_type": "stream",
          "name": "stderr",
          "text": [
            "[nltk_data] Downloading package wordnet to /root/nltk_data...\n"
          ]
        },
        {
          "output_type": "execute_result",
          "data": {
            "text/plain": [
              "True"
            ]
          },
          "metadata": {},
          "execution_count": 29
        }
      ]
    },
    {
      "cell_type": "code",
      "source": [
        "lemmatizer = WordNetLemmatizer()"
      ],
      "metadata": {
        "id": "o8s34VDsZuSq"
      },
      "execution_count": 26,
      "outputs": []
    },
    {
      "cell_type": "code",
      "source": [
        "for i in range(len(documents)):\n",
        "  Words = nltk.word_tokenize(documents[i])\n",
        "  newWords = [lemmatizer.lemmatize(word.lower(),pos='v') for word in Words if word not in set(stopwords.words('english'))]\n",
        "  documents[i] = ' '.join(newWords) #Converting all the list of  words into sentences\n",
        ""
      ],
      "metadata": {
        "id": "HiyGQAi-bsVP"
      },
      "execution_count": 47,
      "outputs": []
    },
    {
      "cell_type": "code",
      "source": [
        "documents"
      ],
      "metadata": {
        "colab": {
          "base_uri": "https://localhost:8080/"
        },
        "id": "cNvP8ZbHcXc6",
        "outputId": "d68d8e63-0dd9-4084-cb96-20b9031cee6b"
      },
      "execution_count": 49,
      "outputs": [
        {
          "output_type": "execute_result",
          "data": {
            "text/plain": [
              "['dr. apj abdul kalam ’ life stori read like masterclass turn adver opportun .',\n",
              " 'bear 1931 pilgrim town rameswaram , ear life mark financ hardship , also valu harmoni dedic would shape futur .',\n",
              " 'young boy , kalam would wake ear studi mathemat , distribut newspap help famili .',\n",
              " 'hi father , boat owner imam , mother , housewif , instil valu honesti , hard work , spiritu wealth materi success .',\n",
              " 'hi scientif career begin aeronaut develop establish drdo .',\n",
              " 'howev , isro truli find call .',\n",
              " 'mentorship vikram sarabhai , kalam lead develop india ’ first satellit launch vehicl , slv-iii , success deploy rohini satellit 1980 .',\n",
              " 'perhap signif contribut come integr guid missil develop programm .',\n",
              " 'leadership , india develop strateg missil like agni prithvi , establish militari power .',\n",
              " 'yet , kalam ’ vision go beyond defen – consist advoc india ’ self-r critic technolog .']"
            ]
          },
          "metadata": {},
          "execution_count": 49
        }
      ]
    },
    {
      "cell_type": "code",
      "source": [
        "for sentence in documents:\n",
        "    print(f\"{sentence}\\n\")"
      ],
      "metadata": {
        "colab": {
          "base_uri": "https://localhost:8080/"
        },
        "id": "OnrGudfgcNVj",
        "outputId": "fdd74a67-a4ce-46c5-c7bb-b333e7a9c7ce"
      },
      "execution_count": 35,
      "outputs": [
        {
          "output_type": "stream",
          "name": "stdout",
          "text": [
            "dr. apj abdul kalam ’ life stori read like masterclass turn adver opportun .\n",
            "\n",
            "bear 1931 pilgrim town rameswaram , ear life mark financ hardship , also valu harmoni dedic would shape futur .\n",
            "\n",
            "young boy , kalam would wake ear studi mathemat , distribut newspap help famili .\n",
            "\n",
            "hi father , boat owner imam , mother , housewif , instil valu honesti , hard work , spiritu wealth materi success .\n",
            "\n",
            "hi scientif career begin aeronaut develop establish drdo .\n",
            "\n",
            "howev , isro truli find call .\n",
            "\n",
            "mentorship vikram sarabhai , kalam lead develop india ’ first satellit launch vehicl , slv-iii , success deploy rohini satellit 1980 .\n",
            "\n",
            "perhap signif contribut come integr guid missil develop programm .\n",
            "\n",
            "leadership , india develop strateg missil like agni prithvi , establish militari power .\n",
            "\n",
            "yet , kalam ’ vision go beyond defen – consist advoc india ’ self-r critic technolog .\n",
            "\n"
          ]
        }
      ]
    }
  ]
}