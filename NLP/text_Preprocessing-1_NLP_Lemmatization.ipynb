{
  "nbformat": 4,
  "nbformat_minor": 0,
  "metadata": {
    "colab": {
      "provenance": []
    },
    "kernelspec": {
      "name": "python3",
      "display_name": "Python 3"
    },
    "language_info": {
      "name": "python"
    }
  },
  "cells": [
    {
      "cell_type": "markdown",
      "source": [
        "# Lemmatization"
      ],
      "metadata": {
        "id": "N_N6pFFn3xWM"
      }
    },
    {
      "cell_type": "markdown",
      "source": [
        "## Wordnet Lemmatizer\n",
        "\n",
        "the output we will get after lemmatization is called `lemma` , which is a root word rather than root stem , the output of temming .after lemmatization , we will be getting a valid word that mean the same thing ."
      ],
      "metadata": {
        "id": "lz-CH3OG34k2"
      }
    },
    {
      "cell_type": "code",
      "execution_count": 5,
      "metadata": {
        "id": "eWiJn_tO3Svj"
      },
      "outputs": [],
      "source": [
        "from nltk.stem import WordNetLemmatizer"
      ]
    },
    {
      "source": [
        "import nltk\n",
        "\n",
        "nltk.download('wordnet')"
      ],
      "cell_type": "code",
      "metadata": {
        "colab": {
          "base_uri": "https://localhost:8080/"
        },
        "id": "2KjZ3Gnd5eEi",
        "outputId": "2b8bb8bd-ae83-4a5c-e798-a009f33c7f33"
      },
      "execution_count": 4,
      "outputs": [
        {
          "output_type": "stream",
          "name": "stderr",
          "text": [
            "[nltk_data] Downloading package wordnet to /root/nltk_data...\n"
          ]
        },
        {
          "output_type": "execute_result",
          "data": {
            "text/plain": [
              "True"
            ]
          },
          "metadata": {},
          "execution_count": 4
        }
      ]
    },
    {
      "cell_type": "code",
      "source": [
        "lemmatizer = WordNetLemmatizer()"
      ],
      "metadata": {
        "id": "2MQir8Vl5RVn"
      },
      "execution_count": 6,
      "outputs": []
    },
    {
      "cell_type": "code",
      "source": [
        "'''\n",
        "POS -Nounn : n\n",
        "POS -Verb : v\n",
        "POS -Adjective : a\n",
        "POS -Adverb : r\n",
        "\n",
        "'''\n",
        "\n",
        "lemmatizer.lemmatize(\"going\" , pos='v')"
      ],
      "metadata": {
        "colab": {
          "base_uri": "https://localhost:8080/",
          "height": 36
        },
        "id": "WVTKZmAL5TVh",
        "outputId": "f38450eb-176f-40cd-82bf-8a2fe2294b4e"
      },
      "execution_count": 10,
      "outputs": [
        {
          "output_type": "execute_result",
          "data": {
            "text/plain": [
              "'going'"
            ],
            "application/vnd.google.colaboratory.intrinsic+json": {
              "type": "string"
            }
          },
          "metadata": {},
          "execution_count": 10
        }
      ]
    },
    {
      "cell_type": "code",
      "source": [
        "words = ['run','runner','running','runs','easily','fairly','eating','eats','eaten','writing','writes','programming','programs']"
      ],
      "metadata": {
        "id": "HhUaIHa75kBC"
      },
      "execution_count": 11,
      "outputs": []
    },
    {
      "cell_type": "code",
      "source": [
        "for word  in words:\n",
        "    print(word + '----->' + lemmatizer.lemmatize(word,pos='v'))"
      ],
      "metadata": {
        "colab": {
          "base_uri": "https://localhost:8080/"
        },
        "id": "cAW-zdv67LAf",
        "outputId": "dbdc54a2-1f94-43dc-a81e-afb7e2549941"
      },
      "execution_count": 17,
      "outputs": [
        {
          "output_type": "stream",
          "name": "stdout",
          "text": [
            "run----->run\n",
            "runner----->runner\n",
            "running----->run\n",
            "runs----->run\n",
            "easily----->easily\n",
            "fairly----->fairly\n",
            "eating----->eat\n",
            "eats----->eat\n",
            "eaten----->eat\n",
            "writing----->write\n",
            "writes----->write\n",
            "programming----->program\n",
            "programs----->program\n"
          ]
        }
      ]
    },
    {
      "cell_type": "markdown",
      "source": [
        "lemmatization is using `WordNetLemmatizer` but he is useful and give higher accuracy do same jobs stemming use for find root word but different lemmitization have higher accuracy but slow , other less acuuracy but fast.\n",
        "\n",
        "* example of lemmatization is : chatbots , Q&A , summarization"
      ],
      "metadata": {
        "id": "-iVsSC4Q8oit"
      }
    },
    {
      "cell_type": "code",
      "source": [],
      "metadata": {
        "id": "2cGhCzc89eh7"
      },
      "execution_count": null,
      "outputs": []
    }
  ]
}