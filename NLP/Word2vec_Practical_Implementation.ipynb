{
  "nbformat": 4,
  "nbformat_minor": 0,
  "metadata": {
    "colab": {
      "provenance": []
    },
    "kernelspec": {
      "name": "python3",
      "display_name": "Python 3"
    },
    "language_info": {
      "name": "python"
    }
  },
  "cells": [
    {
      "cell_type": "code",
      "execution_count": 3,
      "metadata": {
        "colab": {
          "base_uri": "https://localhost:8080/"
        },
        "id": "GEbrLnuHTaMI",
        "outputId": "49d2bde3-bd08-4f05-cb1b-8cccf517d4eb"
      },
      "outputs": [
        {
          "output_type": "stream",
          "name": "stdout",
          "text": [
            "Collecting gensim\n",
            "  Downloading gensim-4.3.3-cp311-cp311-manylinux_2_17_x86_64.manylinux2014_x86_64.whl.metadata (8.1 kB)\n",
            "Collecting numpy<2.0,>=1.18.5 (from gensim)\n",
            "  Downloading numpy-1.26.4-cp311-cp311-manylinux_2_17_x86_64.manylinux2014_x86_64.whl.metadata (61 kB)\n",
            "\u001b[2K     \u001b[90m━━━━━━━━━━━━━━━━━━━━━━━━━━━━━━━━━━━━━━━━\u001b[0m \u001b[32m61.0/61.0 kB\u001b[0m \u001b[31m3.0 MB/s\u001b[0m eta \u001b[36m0:00:00\u001b[0m\n",
            "\u001b[?25hCollecting scipy<1.14.0,>=1.7.0 (from gensim)\n",
            "  Downloading scipy-1.13.1-cp311-cp311-manylinux_2_17_x86_64.manylinux2014_x86_64.whl.metadata (60 kB)\n",
            "\u001b[2K     \u001b[90m━━━━━━━━━━━━━━━━━━━━━━━━━━━━━━━━━━━━━━━━\u001b[0m \u001b[32m60.6/60.6 kB\u001b[0m \u001b[31m2.4 MB/s\u001b[0m eta \u001b[36m0:00:00\u001b[0m\n",
            "\u001b[?25hRequirement already satisfied: smart-open>=1.8.1 in /usr/local/lib/python3.11/dist-packages (from gensim) (7.1.0)\n",
            "Requirement already satisfied: wrapt in /usr/local/lib/python3.11/dist-packages (from smart-open>=1.8.1->gensim) (1.17.2)\n",
            "Downloading gensim-4.3.3-cp311-cp311-manylinux_2_17_x86_64.manylinux2014_x86_64.whl (26.7 MB)\n",
            "\u001b[2K   \u001b[90m━━━━━━━━━━━━━━━━━━━━━━━━━━━━━━━━━━━━━━━━\u001b[0m \u001b[32m26.7/26.7 MB\u001b[0m \u001b[31m68.9 MB/s\u001b[0m eta \u001b[36m0:00:00\u001b[0m\n",
            "\u001b[?25hDownloading numpy-1.26.4-cp311-cp311-manylinux_2_17_x86_64.manylinux2014_x86_64.whl (18.3 MB)\n",
            "\u001b[2K   \u001b[90m━━━━━━━━━━━━━━━━━━━━━━━━━━━━━━━━━━━━━━━━\u001b[0m \u001b[32m18.3/18.3 MB\u001b[0m \u001b[31m88.3 MB/s\u001b[0m eta \u001b[36m0:00:00\u001b[0m\n",
            "\u001b[?25hDownloading scipy-1.13.1-cp311-cp311-manylinux_2_17_x86_64.manylinux2014_x86_64.whl (38.6 MB)\n",
            "\u001b[2K   \u001b[90m━━━━━━━━━━━━━━━━━━━━━━━━━━━━━━━━━━━━━━━━\u001b[0m \u001b[32m38.6/38.6 MB\u001b[0m \u001b[31m16.4 MB/s\u001b[0m eta \u001b[36m0:00:00\u001b[0m\n",
            "\u001b[?25hInstalling collected packages: numpy, scipy, gensim\n",
            "  Attempting uninstall: numpy\n",
            "    Found existing installation: numpy 2.0.2\n",
            "    Uninstalling numpy-2.0.2:\n",
            "      Successfully uninstalled numpy-2.0.2\n",
            "  Attempting uninstall: scipy\n",
            "    Found existing installation: scipy 1.14.1\n",
            "    Uninstalling scipy-1.14.1:\n",
            "      Successfully uninstalled scipy-1.14.1\n",
            "\u001b[31mERROR: pip's dependency resolver does not currently take into account all the packages that are installed. This behaviour is the source of the following dependency conflicts.\n",
            "thinc 8.3.6 requires numpy<3.0.0,>=2.0.0, but you have numpy 1.26.4 which is incompatible.\u001b[0m\u001b[31m\n",
            "\u001b[0mSuccessfully installed gensim-4.3.3 numpy-1.26.4 scipy-1.13.1\n"
          ]
        }
      ],
      "source": [
        "!pip install gensim"
      ]
    },
    {
      "source": [
        "!pip install --upgrade numpy\n",
        "!pip install --upgrade gensim"
      ],
      "cell_type": "code",
      "metadata": {
        "colab": {
          "base_uri": "https://localhost:8080/"
        },
        "id": "AMDGOPxwUH2_",
        "outputId": "1bc25990-aafb-4b5a-f9a6-108d3d22a5dd"
      },
      "execution_count": 1,
      "outputs": [
        {
          "output_type": "stream",
          "name": "stdout",
          "text": [
            "Requirement already satisfied: numpy in /usr/local/lib/python3.11/dist-packages (1.26.4)\n",
            "Collecting numpy\n",
            "  Using cached numpy-2.2.5-cp311-cp311-manylinux_2_17_x86_64.manylinux2014_x86_64.whl.metadata (62 kB)\n",
            "Using cached numpy-2.2.5-cp311-cp311-manylinux_2_17_x86_64.manylinux2014_x86_64.whl (16.4 MB)\n",
            "Installing collected packages: numpy\n",
            "  Attempting uninstall: numpy\n",
            "    Found existing installation: numpy 1.26.4\n",
            "    Uninstalling numpy-1.26.4:\n",
            "      Successfully uninstalled numpy-1.26.4\n",
            "\u001b[31mERROR: pip's dependency resolver does not currently take into account all the packages that are installed. This behaviour is the source of the following dependency conflicts.\n",
            "gensim 4.3.3 requires numpy<2.0,>=1.18.5, but you have numpy 2.2.5 which is incompatible.\n",
            "numba 0.60.0 requires numpy<2.1,>=1.22, but you have numpy 2.2.5 which is incompatible.\n",
            "tensorflow 2.18.0 requires numpy<2.1.0,>=1.26.0, but you have numpy 2.2.5 which is incompatible.\u001b[0m\u001b[31m\n",
            "\u001b[0mSuccessfully installed numpy-2.2.5\n",
            "Requirement already satisfied: gensim in /usr/local/lib/python3.11/dist-packages (4.3.3)\n",
            "Collecting numpy<2.0,>=1.18.5 (from gensim)\n",
            "  Using cached numpy-1.26.4-cp311-cp311-manylinux_2_17_x86_64.manylinux2014_x86_64.whl.metadata (61 kB)\n",
            "Requirement already satisfied: scipy<1.14.0,>=1.7.0 in /usr/local/lib/python3.11/dist-packages (from gensim) (1.13.1)\n",
            "Requirement already satisfied: smart-open>=1.8.1 in /usr/local/lib/python3.11/dist-packages (from gensim) (7.1.0)\n",
            "Requirement already satisfied: wrapt in /usr/local/lib/python3.11/dist-packages (from smart-open>=1.8.1->gensim) (1.17.2)\n",
            "Using cached numpy-1.26.4-cp311-cp311-manylinux_2_17_x86_64.manylinux2014_x86_64.whl (18.3 MB)\n",
            "Installing collected packages: numpy\n",
            "  Attempting uninstall: numpy\n",
            "    Found existing installation: numpy 2.2.5\n",
            "    Uninstalling numpy-2.2.5:\n",
            "      Successfully uninstalled numpy-2.2.5\n",
            "\u001b[31mERROR: pip's dependency resolver does not currently take into account all the packages that are installed. This behaviour is the source of the following dependency conflicts.\n",
            "thinc 8.3.6 requires numpy<3.0.0,>=2.0.0, but you have numpy 1.26.4 which is incompatible.\u001b[0m\u001b[31m\n",
            "\u001b[0mSuccessfully installed numpy-1.26.4\n"
          ]
        }
      ]
    },
    {
      "cell_type": "code",
      "source": [
        "import numpy as np\n",
        "import gensim\n",
        "print(gensim.__version__)"
      ],
      "metadata": {
        "colab": {
          "base_uri": "https://localhost:8080/"
        },
        "id": "l6dRNfX8U-5H",
        "outputId": "21920a42-de25-4a9c-829e-487b52ffb428"
      },
      "execution_count": 4,
      "outputs": [
        {
          "output_type": "stream",
          "name": "stdout",
          "text": [
            "4.3.3\n"
          ]
        }
      ]
    },
    {
      "cell_type": "code",
      "source": [
        "from gensim.models import Word2Vec , KeyedVectors"
      ],
      "metadata": {
        "id": "aJBw_V-iVH1C"
      },
      "execution_count": 6,
      "outputs": []
    },
    {
      "cell_type": "code",
      "source": [
        "import gensim.downloader as api\n",
        "wv = api.load('word2vec-google-news-300')"
      ],
      "metadata": {
        "colab": {
          "base_uri": "https://localhost:8080/"
        },
        "id": "zODYajGaVupv",
        "outputId": "3ec409eb-f1fc-4018-b0fb-051d225f3389"
      },
      "execution_count": 7,
      "outputs": [
        {
          "output_type": "stream",
          "name": "stdout",
          "text": [
            "[==================================================] 100.0% 1662.8/1662.8MB downloaded\n"
          ]
        }
      ]
    },
    {
      "cell_type": "code",
      "source": [
        "vec_king = wv['king']"
      ],
      "metadata": {
        "id": "4wOIzKseXPRv"
      },
      "execution_count": 10,
      "outputs": []
    },
    {
      "cell_type": "code",
      "source": [
        "vec_king.shape"
      ],
      "metadata": {
        "colab": {
          "base_uri": "https://localhost:8080/"
        },
        "id": "n5LmXERaX--I",
        "outputId": "cfb7db25-f554-4f57-d253-6c54b577b447"
      },
      "execution_count": 17,
      "outputs": [
        {
          "output_type": "execute_result",
          "data": {
            "text/plain": [
              "(300,)"
            ]
          },
          "metadata": {},
          "execution_count": 17
        }
      ]
    },
    {
      "cell_type": "code",
      "source": [
        "vec_king[:100]"
      ],
      "metadata": {
        "colab": {
          "base_uri": "https://localhost:8080/"
        },
        "id": "1gxcIh8LXavq",
        "outputId": "38f6aad1-5de8-4e47-d532-2b9787ac1d4d"
      },
      "execution_count": 16,
      "outputs": [
        {
          "output_type": "execute_result",
          "data": {
            "text/plain": [
              "array([ 0.12597656,  0.02978516,  0.00860596,  0.13964844, -0.02563477,\n",
              "       -0.03613281,  0.11181641, -0.19824219,  0.05126953,  0.36328125,\n",
              "       -0.2421875 , -0.30273438, -0.17773438, -0.02490234, -0.16796875,\n",
              "       -0.16992188,  0.03466797,  0.00521851,  0.04638672,  0.12890625,\n",
              "        0.13671875,  0.11279297,  0.05957031,  0.13671875,  0.10107422,\n",
              "       -0.17675781, -0.25195312,  0.05981445,  0.34179688, -0.03112793,\n",
              "        0.10449219,  0.06176758,  0.12451172,  0.40039062, -0.32226562,\n",
              "        0.08398438,  0.0390625 ,  0.00585938,  0.0703125 ,  0.17285156,\n",
              "        0.13867188, -0.23144531,  0.28320312,  0.14257812,  0.34179688,\n",
              "       -0.02392578, -0.10986328,  0.03320312, -0.0546875 ,  0.01531982,\n",
              "       -0.16210938,  0.15820312, -0.25976562,  0.0201416 , -0.16308594,\n",
              "        0.00135803, -0.14453125, -0.05688477,  0.04296875, -0.0246582 ,\n",
              "        0.18554688,  0.44726562,  0.00958252,  0.13183594,  0.09863281,\n",
              "       -0.18554688, -0.10009766, -0.13378906, -0.125     ,  0.28320312,\n",
              "        0.12304688,  0.05322266, -0.17773438,  0.0859375 , -0.02185059,\n",
              "        0.02050781, -0.13964844,  0.02514648,  0.13867188, -0.10546875,\n",
              "        0.13867188,  0.08886719, -0.07519531, -0.0213623 ,  0.17285156,\n",
              "        0.04638672, -0.265625  ,  0.00891113,  0.14941406,  0.0378418 ,\n",
              "        0.23828125, -0.12451172, -0.21777344, -0.18164062,  0.02978516,\n",
              "        0.05712891, -0.02893066,  0.01245117,  0.09667969, -0.23144531],\n",
              "      dtype=float32)"
            ]
          },
          "metadata": {},
          "execution_count": 16
        }
      ]
    },
    {
      "cell_type": "code",
      "source": [
        "wv['madrid']"
      ],
      "metadata": {
        "colab": {
          "base_uri": "https://localhost:8080/"
        },
        "id": "Burdi9KdYDaV",
        "outputId": "94fba659-5ea2-4855-80f6-caac4f91a438"
      },
      "execution_count": 25,
      "outputs": [
        {
          "output_type": "execute_result",
          "data": {
            "text/plain": [
              "array([ 1.14257812e-01,  5.07812500e-02,  1.61132812e-01,  6.28906250e-01,\n",
              "        6.34765625e-02, -2.16796875e-01, -4.51660156e-02, -1.25000000e-01,\n",
              "       -1.40625000e-01,  1.46484375e-01, -6.00585938e-02, -3.71093750e-02,\n",
              "       -2.00195312e-01,  1.63085938e-01,  2.50244141e-02,  2.79296875e-01,\n",
              "        2.34375000e-01,  4.06250000e-01, -1.23046875e-01,  7.47070312e-02,\n",
              "       -4.10156250e-02, -2.08007812e-01,  5.66406250e-01,  9.27734375e-02,\n",
              "       -9.08203125e-02, -1.66992188e-01,  4.39453125e-02, -1.73828125e-01,\n",
              "       -9.57031250e-02, -1.52343750e-01,  6.29882812e-02,  1.29882812e-01,\n",
              "        9.13085938e-02, -2.17773438e-01, -1.56250000e-01,  3.49609375e-01,\n",
              "       -2.85156250e-01,  9.81445312e-02,  1.03027344e-01,  4.33593750e-01,\n",
              "        4.17480469e-02, -3.05175781e-02,  2.87109375e-01,  1.43554688e-01,\n",
              "        3.37890625e-01, -2.89062500e-01,  4.84375000e-01, -3.02734375e-01,\n",
              "       -3.37890625e-01,  1.70898438e-01, -1.66992188e-01,  2.67578125e-01,\n",
              "        1.42578125e-01, -2.35595703e-02, -3.69140625e-01,  3.44238281e-02,\n",
              "       -6.83593750e-02,  1.38671875e-01,  7.62939453e-03, -7.42187500e-02,\n",
              "        7.65991211e-03,  1.66992188e-01, -2.53906250e-01, -6.98242188e-02,\n",
              "       -1.15234375e-01, -3.55468750e-01,  1.96533203e-02, -1.00585938e-01,\n",
              "       -9.76562500e-02,  1.33789062e-01,  4.32128906e-02,  3.22265625e-01,\n",
              "       -7.76367188e-02,  2.51953125e-01, -3.10546875e-01,  7.03125000e-02,\n",
              "       -1.09375000e-01, -2.27539062e-01, -2.14843750e-01, -2.75390625e-01,\n",
              "       -4.80468750e-01,  4.10156250e-01, -1.36718750e-01, -1.00097656e-01,\n",
              "        2.25585938e-01,  1.21582031e-01,  1.70898438e-01,  1.92382812e-01,\n",
              "       -2.14843750e-01,  6.98242188e-02,  1.43432617e-02, -1.83593750e-01,\n",
              "       -3.16406250e-01,  1.14257812e-01, -9.42382812e-02,  4.85839844e-02,\n",
              "       -1.68945312e-01, -8.44726562e-02,  4.98046875e-01,  1.01928711e-02,\n",
              "       -1.26953125e-01,  2.91015625e-01,  1.87500000e-01,  2.85156250e-01,\n",
              "        1.44531250e-01,  2.46093750e-01, -6.17675781e-02, -3.10546875e-01,\n",
              "        1.20117188e-01, -7.32421875e-02,  4.07714844e-02, -5.54199219e-02,\n",
              "        1.53320312e-01, -1.46484375e-01, -1.90429688e-01,  2.50000000e-01,\n",
              "       -2.09960938e-01, -1.29882812e-01,  5.15136719e-02, -1.64062500e-01,\n",
              "        2.61230469e-02, -2.31445312e-01, -4.10156250e-02, -2.75878906e-02,\n",
              "        3.37890625e-01, -4.14062500e-01, -6.44531250e-02,  2.27050781e-02,\n",
              "       -8.39843750e-02, -1.55273438e-01, -1.32812500e-01,  7.53784180e-03,\n",
              "        1.54296875e-01, -1.56250000e-01,  1.15234375e-01, -2.61718750e-01,\n",
              "       -4.47265625e-01, -1.25976562e-01,  4.85839844e-02,  3.73840332e-04,\n",
              "        1.37695312e-01, -2.77343750e-01, -3.17382812e-02, -1.78710938e-01,\n",
              "        3.39355469e-02, -6.39648438e-02, -1.64062500e-01, -9.37500000e-02,\n",
              "        9.42382812e-02, -4.41406250e-01,  1.70898438e-01, -2.53906250e-01,\n",
              "       -3.67187500e-01, -2.41210938e-01, -3.46679688e-02, -1.35742188e-01,\n",
              "        1.12792969e-01,  1.09375000e-01, -1.69921875e-01, -8.93554688e-02,\n",
              "        3.04687500e-01,  1.18164062e-01, -1.51367188e-01, -7.66601562e-02,\n",
              "        2.65625000e-01, -3.45703125e-01,  3.32031250e-01, -2.23632812e-01,\n",
              "       -1.91406250e-01,  1.09375000e-01, -5.35156250e-01,  5.90820312e-02,\n",
              "       -6.83593750e-02,  5.15136719e-02, -6.88476562e-02,  1.52343750e-01,\n",
              "        3.16406250e-01, -3.94531250e-01,  2.21679688e-01, -3.02734375e-01,\n",
              "        5.34667969e-02,  9.71679688e-02, -1.39648438e-01, -3.14941406e-02,\n",
              "        8.49609375e-02,  1.92382812e-01, -3.26171875e-01, -1.87500000e-01,\n",
              "       -7.91015625e-02,  2.26020813e-04, -2.57812500e-01,  1.91406250e-01,\n",
              "       -1.00585938e-01, -4.32128906e-02,  5.31250000e-01,  3.12500000e-02,\n",
              "       -1.64062500e-01,  2.53906250e-01, -3.49609375e-01, -3.90625000e-01,\n",
              "       -3.92578125e-01, -1.16699219e-01, -2.75390625e-01, -6.21093750e-01,\n",
              "       -1.27563477e-02, -4.92187500e-01,  2.26562500e-01, -1.39648438e-01,\n",
              "       -1.75781250e-01,  1.66015625e-01,  1.81640625e-01,  1.74804688e-01,\n",
              "       -4.80468750e-01, -2.17773438e-01, -3.88671875e-01,  1.62109375e-01,\n",
              "        9.08203125e-02, -2.27539062e-01, -1.84570312e-01,  6.68334961e-03,\n",
              "       -1.76757812e-01, -2.33398438e-01,  6.64062500e-02,  1.45507812e-01,\n",
              "        6.29882812e-02,  6.93359375e-02,  1.46484375e-01, -2.96020508e-03,\n",
              "        1.91406250e-01, -8.11767578e-03, -9.15527344e-05, -1.44531250e-01,\n",
              "       -1.83593750e-01,  7.81250000e-02, -7.71484375e-02, -1.68457031e-02,\n",
              "        1.30859375e-01, -2.36816406e-02, -7.08007812e-02,  1.36718750e-01,\n",
              "        4.23828125e-01, -4.54101562e-02,  1.26953125e-01,  5.95703125e-02,\n",
              "       -2.65625000e-01,  2.46093750e-01, -3.32031250e-01, -4.17480469e-02,\n",
              "       -1.89453125e-01,  3.58886719e-02,  5.78125000e-01,  2.50000000e-01,\n",
              "        6.54296875e-02,  5.31250000e-01,  2.94921875e-01, -1.45507812e-01,\n",
              "        4.78515625e-02,  1.66015625e-01, -1.90429688e-01,  1.12915039e-02,\n",
              "        1.79687500e-01, -7.66601562e-02,  9.13085938e-02, -3.19824219e-02,\n",
              "        4.95605469e-02, -1.44531250e-01, -4.94140625e-01, -2.21679688e-01,\n",
              "        2.60009766e-02, -1.17675781e-01, -2.15820312e-01,  3.24707031e-02,\n",
              "       -2.61230469e-02, -4.00390625e-02, -1.70898438e-01,  1.09375000e-01,\n",
              "        1.87500000e-01,  4.98046875e-02, -3.86718750e-01,  2.14843750e-02,\n",
              "       -2.22656250e-01,  1.66992188e-01,  1.48437500e-01, -1.24511719e-01,\n",
              "       -9.57031250e-02, -8.00781250e-02,  2.32421875e-01,  1.88476562e-01,\n",
              "        1.17675781e-01,  6.59179688e-03,  2.40234375e-01,  4.49218750e-01,\n",
              "       -2.92968750e-02,  1.41601562e-01, -3.41796875e-02,  2.55859375e-01,\n",
              "       -3.94531250e-01,  3.22265625e-02,  7.51953125e-02,  2.81250000e-01],\n",
              "      dtype=float32)"
            ]
          },
          "metadata": {},
          "execution_count": 25
        }
      ]
    },
    {
      "cell_type": "code",
      "source": [
        "wv.most_similar('food')"
      ],
      "metadata": {
        "colab": {
          "base_uri": "https://localhost:8080/"
        },
        "id": "6yInhJvRYZNn",
        "outputId": "0f299827-5782-46d2-9f3f-94cd07553417"
      },
      "execution_count": 27,
      "outputs": [
        {
          "output_type": "execute_result",
          "data": {
            "text/plain": [
              "[('foods', 0.6804922819137573),\n",
              " ('Food', 0.6538903713226318),\n",
              " ('foodstuffs', 0.642582893371582),\n",
              " ('meals', 0.616668701171875),\n",
              " ('food_stuffs', 0.5928642153739929),\n",
              " ('nourishing_meals', 0.5847609043121338),\n",
              " ('foodstuff', 0.5835224986076355),\n",
              " ('staple_foods', 0.5535788536071777),\n",
              " ('nutritious', 0.5466451644897461),\n",
              " ('meal', 0.5433712601661682)]"
            ]
          },
          "metadata": {},
          "execution_count": 27
        }
      ]
    },
    {
      "cell_type": "code",
      "source": [
        "wv.most_similar('happy')"
      ],
      "metadata": {
        "colab": {
          "base_uri": "https://localhost:8080/"
        },
        "id": "1ijrnU94YsAL",
        "outputId": "f65c45df-4f55-43c1-c1b2-7de4db17c992"
      },
      "execution_count": 29,
      "outputs": [
        {
          "output_type": "execute_result",
          "data": {
            "text/plain": [
              "[('glad', 0.7408890724182129),\n",
              " ('pleased', 0.6632170677185059),\n",
              " ('ecstatic', 0.6626912355422974),\n",
              " ('overjoyed', 0.6599286794662476),\n",
              " ('thrilled', 0.6514049172401428),\n",
              " ('satisfied', 0.6437949538230896),\n",
              " ('proud', 0.636042058467865),\n",
              " ('delighted', 0.627237856388092),\n",
              " ('disappointed', 0.6269949674606323),\n",
              " ('excited', 0.6247665286064148)]"
            ]
          },
          "metadata": {},
          "execution_count": 29
        }
      ]
    },
    {
      "cell_type": "code",
      "source": [
        "wv.similarity('happy','glad')"
      ],
      "metadata": {
        "colab": {
          "base_uri": "https://localhost:8080/"
        },
        "id": "o8S1gBMwY0-m",
        "outputId": "0eb98728-f0ca-43f4-ca85-244b00c0a650"
      },
      "execution_count": 30,
      "outputs": [
        {
          "output_type": "execute_result",
          "data": {
            "text/plain": [
              "0.74088913"
            ]
          },
          "metadata": {},
          "execution_count": 30
        }
      ]
    },
    {
      "cell_type": "code",
      "source": [
        "vec = wv['king'] -wv['man'] + wv['woman']"
      ],
      "metadata": {
        "id": "f38erNvfbFdI"
      },
      "execution_count": 32,
      "outputs": []
    },
    {
      "cell_type": "code",
      "source": [
        "vec[:100]"
      ],
      "metadata": {
        "colab": {
          "base_uri": "https://localhost:8080/"
        },
        "id": "PSpiG-o-bTAv",
        "outputId": "b22fed1d-4b2e-43ec-b769-d7d63b9334ed"
      },
      "execution_count": 35,
      "outputs": [
        {
          "output_type": "execute_result",
          "data": {
            "text/plain": [
              "array([ 0.04296875, -0.17822266, -0.12908936,  0.11523438,  0.00268555,\n",
              "       -0.10229492,  0.19580078, -0.1795044 ,  0.01953125,  0.40991974,\n",
              "       -0.36816406, -0.39648438, -0.15673828,  0.00146484, -0.09301758,\n",
              "       -0.11645508, -0.05517578, -0.10757446,  0.07910156,  0.19897461,\n",
              "        0.23852539,  0.06340027, -0.02172852,  0.        ,  0.04724121,\n",
              "       -0.21777344, -0.34472656,  0.0637207 ,  0.31640625, -0.19763184,\n",
              "        0.0859375 , -0.08117676, -0.03710938,  0.31555176, -0.34179688,\n",
              "       -0.046875  ,  0.09765625,  0.08398438, -0.09716797,  0.05175781,\n",
              "       -0.05004883, -0.22094727,  0.22949219,  0.12640381,  0.24902344,\n",
              "        0.02099609, -0.10986328,  0.05810547, -0.03356934,  0.12957764,\n",
              "        0.02416992,  0.03481293, -0.26000977,  0.24230957, -0.32177734,\n",
              "        0.01454163, -0.15917969, -0.08374023,  0.16503906,  0.00158691,\n",
              "        0.3095703 ,  0.31640625,  0.00738525,  0.24121094,  0.04907227,\n",
              "       -0.09863281,  0.02905273,  0.14941406, -0.04833984,  0.2355957 ,\n",
              "        0.2211914 ,  0.12548828, -0.13867188,  0.15429688,  0.07189941,\n",
              "        0.12988281, -0.10571289,  0.06005859,  0.31469727,  0.10961914,\n",
              "        0.08496094,  0.07714844, -0.02172852,  0.06115723, -0.1899414 ,\n",
              "        0.20751953, -0.16308594,  0.11352539,  0.20117188,  0.06066895,\n",
              "        0.12792969, -0.3112793 , -0.28015137, -0.15588379,  0.04150391,\n",
              "        0.0987854 ,  0.16955566, -0.03491211,  0.2084961 , -0.09899902],\n",
              "      dtype=float32)"
            ]
          },
          "metadata": {},
          "execution_count": 35
        }
      ]
    },
    {
      "cell_type": "code",
      "source": [
        "wv.most_similar([vec])"
      ],
      "metadata": {
        "colab": {
          "base_uri": "https://localhost:8080/"
        },
        "id": "L1C344fjbOqr",
        "outputId": "90fe080b-79eb-4360-eb77-d2dac996f209"
      },
      "execution_count": 33,
      "outputs": [
        {
          "output_type": "execute_result",
          "data": {
            "text/plain": [
              "[('king', 0.8449392318725586),\n",
              " ('queen', 0.7300517559051514),\n",
              " ('monarch', 0.645466148853302),\n",
              " ('princess', 0.6156251430511475),\n",
              " ('crown_prince', 0.5818676352500916),\n",
              " ('prince', 0.5777117609977722),\n",
              " ('kings', 0.5613663792610168),\n",
              " ('sultan', 0.5376775860786438),\n",
              " ('Queen_Consort', 0.5344247817993164),\n",
              " ('queens', 0.5289887189865112)]"
            ]
          },
          "metadata": {},
          "execution_count": 33
        }
      ]
    }
  ]
}