{
  "nbformat": 4,
  "nbformat_minor": 0,
  "metadata": {
    "colab": {
      "provenance": [],
      "toc_visible": true
    },
    "kernelspec": {
      "name": "python3",
      "display_name": "Python 3"
    },
    "language_info": {
      "name": "python"
    }
  },
  "cells": [
    {
      "cell_type": "markdown",
      "source": [
        "# Stemming"
      ],
      "metadata": {
        "id": "TsdWKfnLRyZF"
      }
    },
    {
      "cell_type": "markdown",
      "source": [
        "## PorterStemmer"
      ],
      "metadata": {
        "id": "tJlmhFFlj1jJ"
      }
    },
    {
      "cell_type": "code",
      "execution_count": 1,
      "metadata": {
        "id": "g5Uba_LARqwY"
      },
      "outputs": [],
      "source": [
        "from nltk.stem import PorterStemmer"
      ]
    },
    {
      "cell_type": "code",
      "source": [
        "words = ['run','runner','running','runs','easily','fairly','eating','eats','eaten','writing','writes','programming','programs']"
      ],
      "metadata": {
        "id": "5P7SaMVLj-cH"
      },
      "execution_count": 2,
      "outputs": []
    },
    {
      "cell_type": "code",
      "source": [
        "for word in words:\n",
        "    print(word + '---->' + PorterStemmer().stem(word))\n"
      ],
      "metadata": {
        "colab": {
          "base_uri": "https://localhost:8080/"
        },
        "id": "_bPlbQqskUZ0",
        "outputId": "cc0958ed-2ea3-476a-ab85-2e405d7732d8"
      },
      "execution_count": 3,
      "outputs": [
        {
          "output_type": "stream",
          "name": "stdout",
          "text": [
            "run---->run\n",
            "runner---->runner\n",
            "running---->run\n",
            "runs---->run\n",
            "easily---->easili\n",
            "fairly---->fairli\n",
            "eating---->eat\n",
            "eats---->eat\n",
            "eaten---->eaten\n",
            "writing---->write\n",
            "writes---->write\n",
            "programming---->program\n",
            "programs---->program\n"
          ]
        }
      ]
    },
    {
      "cell_type": "markdown",
      "source": [
        "one of disavantage of PortsSemmer he can change meaning of some words when he try to apply stemming on some words."
      ],
      "metadata": {
        "id": "HHfz9o29kcax"
      }
    },
    {
      "cell_type": "markdown",
      "source": [
        "## RegexpStemmer class"
      ],
      "metadata": {
        "id": "LAzgM8TplC0v"
      }
    },
    {
      "cell_type": "code",
      "source": [
        "from nltk.stem import RegexpStemmer"
      ],
      "metadata": {
        "id": "DrQXUx3FlICy"
      },
      "execution_count": 5,
      "outputs": []
    },
    {
      "cell_type": "code",
      "source": [
        "reg_stemmer = RegexpStemmer('ing$|s$|e$|able$',min=4)"
      ],
      "metadata": {
        "id": "2HK89XyQk8pM"
      },
      "execution_count": 6,
      "outputs": []
    },
    {
      "cell_type": "code",
      "source": [
        "reg_stemmer.stem('eating')"
      ],
      "metadata": {
        "colab": {
          "base_uri": "https://localhost:8080/",
          "height": 36
        },
        "id": "KVtXZ_25muKc",
        "outputId": "6b50075a-63a7-4e97-cf50-b7a19e73250d"
      },
      "execution_count": 9,
      "outputs": [
        {
          "output_type": "execute_result",
          "data": {
            "text/plain": [
              "'eat'"
            ],
            "application/vnd.google.colaboratory.intrinsic+json": {
              "type": "string"
            }
          },
          "metadata": {},
          "execution_count": 9
        }
      ]
    },
    {
      "cell_type": "code",
      "source": [
        "for word in words:\n",
        "    print(word + '---->' + reg_stemmer.stem(word))"
      ],
      "metadata": {
        "colab": {
          "base_uri": "https://localhost:8080/"
        },
        "id": "QbUk7USRpBnT",
        "outputId": "27e7dbdb-d1d2-4563-98a6-888626c97919"
      },
      "execution_count": 14,
      "outputs": [
        {
          "output_type": "stream",
          "name": "stdout",
          "text": [
            "run---->run\n",
            "runner---->runner\n",
            "running---->runn\n",
            "runs---->run\n",
            "easily---->easily\n",
            "fairly---->fairly\n",
            "eating---->eat\n",
            "eats---->eat\n",
            "eaten---->eaten\n",
            "writing---->writ\n",
            "writes---->write\n",
            "programming---->programm\n",
            "programs---->program\n"
          ]
        }
      ]
    },
    {
      "cell_type": "markdown",
      "source": [
        "## Snowball stemmer\n",
        "\n",
        "it's better when compare to RegexpStemmer class"
      ],
      "metadata": {
        "id": "-PA2elQBnnI0"
      }
    },
    {
      "cell_type": "code",
      "source": [
        "from nltk.stem import SnowballStemmer"
      ],
      "metadata": {
        "id": "-czd57b5nrtH"
      },
      "execution_count": 10,
      "outputs": []
    },
    {
      "cell_type": "code",
      "source": [
        "SnowballStemmer.languages"
      ],
      "metadata": {
        "colab": {
          "base_uri": "https://localhost:8080/"
        },
        "id": "qEQyq9lSoSfI",
        "outputId": "0c2cc153-4226-4904-cb91-54c09f60da1a"
      },
      "execution_count": 11,
      "outputs": [
        {
          "output_type": "execute_result",
          "data": {
            "text/plain": [
              "('arabic',\n",
              " 'danish',\n",
              " 'dutch',\n",
              " 'english',\n",
              " 'finnish',\n",
              " 'french',\n",
              " 'german',\n",
              " 'hungarian',\n",
              " 'italian',\n",
              " 'norwegian',\n",
              " 'porter',\n",
              " 'portuguese',\n",
              " 'romanian',\n",
              " 'russian',\n",
              " 'spanish',\n",
              " 'swedish')"
            ]
          },
          "metadata": {},
          "execution_count": 11
        }
      ]
    },
    {
      "cell_type": "code",
      "source": [
        "snowballStemmer = SnowballStemmer('english')"
      ],
      "metadata": {
        "id": "lSDWxPqxoYZF"
      },
      "execution_count": 12,
      "outputs": []
    },
    {
      "cell_type": "code",
      "source": [
        "for word in words:\n",
        "    print(word + '---->' + snowballStemmer.stem(word))"
      ],
      "metadata": {
        "colab": {
          "base_uri": "https://localhost:8080/"
        },
        "id": "A9b-hqMJohNp",
        "outputId": "78614710-9818-4578-ced0-6334e696d1f9"
      },
      "execution_count": 13,
      "outputs": [
        {
          "output_type": "stream",
          "name": "stdout",
          "text": [
            "run---->run\n",
            "runner---->runner\n",
            "running---->run\n",
            "runs---->run\n",
            "easily---->easili\n",
            "fairly---->fair\n",
            "eating---->eat\n",
            "eats---->eat\n",
            "eaten---->eaten\n",
            "writing---->write\n",
            "writes---->write\n",
            "programming---->program\n",
            "programs---->program\n"
          ]
        }
      ]
    },
    {
      "cell_type": "markdown",
      "source": [
        "### Let's compare between PortSteem and snowball stem"
      ],
      "metadata": {
        "id": "mvwqOp_MpW14"
      }
    },
    {
      "cell_type": "code",
      "source": [
        "stemming = PorterStemmer()\n",
        "stemming.stem('fairly') , stemming.stem('easily'), stemming.stem('sportingly')"
      ],
      "metadata": {
        "colab": {
          "base_uri": "https://localhost:8080/"
        },
        "id": "W4sX1qxJphC_",
        "outputId": "85afb218-1c6b-491d-e094-df2054207062"
      },
      "execution_count": 17,
      "outputs": [
        {
          "output_type": "execute_result",
          "data": {
            "text/plain": [
              "('fairli', 'easili', 'sportingli')"
            ]
          },
          "metadata": {},
          "execution_count": 17
        }
      ]
    },
    {
      "cell_type": "code",
      "source": [
        "snowballStemmer.stem('fairly') , snowballStemmer.stem('easily'), snowballStemmer.stem('sportingly')"
      ],
      "metadata": {
        "colab": {
          "base_uri": "https://localhost:8080/"
        },
        "id": "GVGr0bO6pzfo",
        "outputId": "ad1178dc-c69a-41f6-e246-844e12619029"
      },
      "execution_count": 18,
      "outputs": [
        {
          "output_type": "execute_result",
          "data": {
            "text/plain": [
              "('fair', 'easili', 'sport')"
            ]
          },
          "metadata": {},
          "execution_count": 18
        }
      ]
    },
    {
      "cell_type": "code",
      "source": [
        "from nltk.stem import PorterStemmer, LancasterStemmer, SnowballStemmer\n",
        "\n",
        "words = [\"running\", \"runs\", \"easily\", \"fairly\", \"studies\", \"studying\", \"applied\", \"application\"]\n",
        "\n",
        "porter = PorterStemmer()\n",
        "lancaster = LancasterStemmer()\n",
        "snowball = SnowballStemmer(\"english\")\n",
        "\n",
        "print(\"Word\\tPorter\\tLancaster\\tSnowball\")\n",
        "for word in words:\n",
        "    print(f\"{word}\\t{porter.stem(word)}\\t{lancaster.stem(word)}\\t{snowball.stem(word)}\")\n"
      ],
      "metadata": {
        "colab": {
          "base_uri": "https://localhost:8080/"
        },
        "id": "KW0ZL2uSquFp",
        "outputId": "c92f86ae-e6df-441b-99d0-a0e25c2e49d3"
      },
      "execution_count": 19,
      "outputs": [
        {
          "output_type": "stream",
          "name": "stdout",
          "text": [
            "Word\tPorter\tLancaster\tSnowball\n",
            "running\trun\trun\trun\n",
            "runs\trun\trun\trun\n",
            "easily\teasili\teasy\teasili\n",
            "fairly\tfairli\tfair\tfair\n",
            "studies\tstudi\tstudy\tstudi\n",
            "studying\tstudi\tstudy\tstudi\n",
            "applied\tappli\tapply\tappli\n",
            "application\tapplic\tapply\tapplic\n"
          ]
        }
      ]
    },
    {
      "cell_type": "code",
      "source": [
        "for word in words:\n",
        "    print(word + '---->' + lancaster.stem(word))"
      ],
      "metadata": {
        "colab": {
          "base_uri": "https://localhost:8080/"
        },
        "id": "Tg4_yf45vVjx",
        "outputId": "f3d84ea8-3f95-4f2d-9149-1777c448f8a9"
      },
      "execution_count": 20,
      "outputs": [
        {
          "output_type": "stream",
          "name": "stdout",
          "text": [
            "running---->run\n",
            "runs---->run\n",
            "easily---->easy\n",
            "fairly---->fair\n",
            "studies---->study\n",
            "studying---->study\n",
            "applied---->apply\n",
            "application---->apply\n"
          ]
        }
      ]
    }
  ]
}